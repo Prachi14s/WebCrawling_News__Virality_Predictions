{
  "nbformat": 4,
  "nbformat_minor": 0,
  "metadata": {
    "colab": {
      "name": "News_Virality_Predictions.ipynb",
      "provenance": []
    },
    "kernelspec": {
      "name": "python3",
      "display_name": "Python 3"
    }
  },
  "cells": [
    {
      "cell_type": "code",
      "metadata": {
        "id": "ZDd1CYsCTWbM",
        "colab_type": "code",
        "colab": {}
      },
      "source": [
        "# WEB CRAWLING FOR NEWS ARTICLES AND PREDICTION OF VIRALITY FOR THOSE ARTICLES\n",
        "# Pproject will go in three major steps:\n",
        "# 1. Web crawling for collection of data\n",
        "# 2. Data preprocessing\n",
        "# 3. Training LDA Model\n",
        "# 4. Get Topic Distribution per article(Feature vector will be probability distribution)\n",
        "# 5. Machine Learning"
      ],
      "execution_count": 0,
      "outputs": []
    },
    {
      "cell_type": "code",
      "metadata": {
        "id": "qG27aOBAg0xY",
        "colab_type": "code",
        "colab": {}
      },
      "source": [
        "#imporing all necessary dependencies/libraries"
      ],
      "execution_count": 0,
      "outputs": []
    },
    {
      "cell_type": "code",
      "metadata": {
        "id": "OD_V1E8Jgnkq",
        "colab_type": "code",
        "colab": {}
      },
      "source": [
        "import json\n",
        "import pandas as pd\n",
        "import numpy as np\n",
        "import nltk\n",
        "import spacy\n",
        "from datetime import datetime\n",
        "import gensim\n",
        "import gensim.corpora as corpora\n",
        "from gensim.models.doc2vec import Doc2Vec, TaggedDocument\n",
        "from gensim.test.utils import get_tmpfile, datapath\n",
        "from gensim.utils import simple_preprocess\n",
        "from nltk.corpus import stopwords\n",
        "import warnings\n",
        "warnings.filterwarnings(\"ignore\")\n",
        "import pprint\n",
        "import requests "
      ],
      "execution_count": 0,
      "outputs": []
    },
    {
      "cell_type": "code",
      "metadata": {
        "id": "eyl7AmJITpb5",
        "colab_type": "code",
        "outputId": "6d82d39a-fe5f-436d-fa69-794abff990d6",
        "colab": {
          "base_uri": "https://localhost:8080/",
          "height": 102
        }
      },
      "source": [
        "nltk.download('punkt')\n",
        "nltk.download('stopwords')"
      ],
      "execution_count": 0,
      "outputs": [
        {
          "output_type": "stream",
          "text": [
            "[nltk_data] Downloading package punkt to /root/nltk_data...\n",
            "[nltk_data]   Unzipping tokenizers/punkt.zip.\n",
            "[nltk_data] Downloading package stopwords to /root/nltk_data...\n",
            "[nltk_data]   Unzipping corpora/stopwords.zip.\n"
          ],
          "name": "stdout"
        },
        {
          "output_type": "execute_result",
          "data": {
            "text/plain": [
              "True"
            ]
          },
          "metadata": {
            "tags": []
          },
          "execution_count": 4
        }
      ]
    },
    {
      "cell_type": "code",
      "metadata": {
        "id": "-QGk_bNrT0b_",
        "colab_type": "code",
        "colab": {}
      },
      "source": [
        "secret = '******'  # API Key for extracting news data online"
      ],
      "execution_count": 0,
      "outputs": []
    },
    {
      "cell_type": "code",
      "metadata": {
        "id": "4saH0ORzT0lh",
        "colab_type": "code",
        "colab": {}
      },
      "source": [
        "# Define the endpoint\n",
        "url = 'https://newsapi.org/v2/everything?'"
      ],
      "execution_count": 0,
      "outputs": []
    },
    {
      "cell_type": "code",
      "metadata": {
        "id": "tPWuFYGyT1VP",
        "colab_type": "code",
        "colab": {}
      },
      "source": [
        "# Specify the query and number of returns\n",
        "parameters = {\n",
        "    'q': 'big data', # query phrase\n",
        "    'pageSize': 20,  # maximum is 100\n",
        "    'apiKey': secret # your own API key\n",
        "}"
      ],
      "execution_count": 0,
      "outputs": []
    },
    {
      "cell_type": "code",
      "metadata": {
        "id": "lJTmMNHsT1aA",
        "colab_type": "code",
        "outputId": "52c7db50-2a88-4b3c-f008-40229999bfa6",
        "colab": {
          "base_uri": "https://localhost:8080/",
          "height": 1000
        }
      },
      "source": [
        "# Now we can retrieve the news with the requests package.\n",
        "# Make the request\n",
        "response = requests.get(url, params=parameters)\n",
        "\n",
        "# Convert the response to JSON format and pretty print it\n",
        "response_json = response.json()\n",
        "pprint.pprint(response_json)"
      ],
      "execution_count": 0,
      "outputs": [
        {
          "output_type": "stream",
          "text": [
            "{'articles': [{'author': 'Ingrid Lunden',\n",
            "               'content': 'GDPR and other data protection and privacy '\n",
            "                          'regulations — as well as a significant (and '\n",
            "                          'growing) number of data breaches and exposées of '\n",
            "                          'companies’ privacy policies — have put a spotlight '\n",
            "                          'on not just on the vast troves of data that '\n",
            "                          'businesses and other organiz… [+3286 chars]',\n",
            "               'description': 'GDPR and other data protection and privacy '\n",
            "                              'regulations — as well as a significant (and '\n",
            "                              'growing) number of data breaches and exposées '\n",
            "                              'of companies’ privacy policies — have put a '\n",
            "                              'spotlight on not just on the vast troves of '\n",
            "                              'data that businesses and other organiz…',\n",
            "               'publishedAt': '2020-04-02T12:00:08Z',\n",
            "               'source': {'id': 'techcrunch', 'name': 'TechCrunch'},\n",
            "               'title': 'Collibra nabs another $112.5M at a $2.3B valuation '\n",
            "                        'for its big data management platform',\n",
            "               'url': 'http://techcrunch.com/2020/04/02/collibra-nabs-another-112-5m-at-a-2-3b-valuation-for-its-big-data-management-platform/',\n",
            "               'urlToImage': None},\n",
            "              {'author': 'Devin Coldewey',\n",
            "               'content': 'To someone with a hammer, every problem looks like '\n",
            "                          'a nail and as expected, the tech sector is hard at '\n",
            "                          'work hammering every nail it can find. But the '\n",
            "                          'analytical prowess of the modern data ecosystem is '\n",
            "                          'especially limited when attempting to tackle the '\n",
            "                          'problem of… [+4581 chars]',\n",
            "               'description': 'To someone with a hammer, every problem looks '\n",
            "                              'like a nail — and as expected, the tech sector '\n",
            "                              'is hard at work hammering every nail it can '\n",
            "                              'find. But the analytical prowess of the modern '\n",
            "                              'data ecosystem is especially limited when '\n",
            "                              'attempting to tackle the problem …',\n",
            "               'publishedAt': '2020-03-26T17:46:00Z',\n",
            "               'source': {'id': 'techcrunch', 'name': 'TechCrunch'},\n",
            "               'title': 'AI and big data won’t work miracles in the fight '\n",
            "                        'against coronavirus',\n",
            "               'url': 'http://techcrunch.com/2020/03/26/ai-and-big-data-wont-work-miracles-in-the-fight-against-coronavirus/',\n",
            "               'urlToImage': None},\n",
            "              {'author': 'Natalie Wolchover',\n",
            "               'content': 'Physicists have detected the strongest evidence yet '\n",
            "                          'of a behavioral difference between elementary '\n",
            "                          'particles called neutrinos and their mirror-image '\n",
            "                          'twins, antineutrinos. The asymmetry could be the '\n",
            "                          'key to why so much more matter than antimatter '\n",
            "                          'arose during th… [+3511 chars]',\n",
            "               'description': 'If matter and antimatter cancel each other out, '\n",
            "                              'how can the universe exist? A discrepancy in '\n",
            "                              'the behavior of neutrinos and antineutrinos '\n",
            "                              'hints at an answer.',\n",
            "               'publishedAt': '2020-04-19T12:00:00Z',\n",
            "               'source': {'id': 'wired', 'name': 'Wired'},\n",
            "               'title': 'An Imbalance Among Tiny Particles Offers a Big '\n",
            "                        'Cosmology Clue',\n",
            "               'url': 'https://www.wired.com/story/an-imbalance-among-tiny-particles-offers-a-big-cosmology-clue/',\n",
            "               'urlToImage': None},\n",
            "              {'author': 'Rachel England',\n",
            "               'content': 'Amazon’s cloud data centers have arrived in South '\n",
            "                          'Africa, helping millions of people, businesses and '\n",
            "                          'organizations to benefit from faster connectivity '\n",
            "                          'and viable access to next-generation technology. '\n",
            "                          'Amazon Web Services (AWS) is located in Cape Town '\n",
            "                          'and has t… [+581 chars]',\n",
            "               'description': 'Amazon’s cloud data centers have arrived in '\n",
            "                              'South Africa, helping millions of people, '\n",
            "                              'businesses and organizations to benefit from '\n",
            "                              'faster connectivity and viable access to '\n",
            "                              'next-generation technology. Amazon Web Services '\n",
            "                              '(AWS) is located in Cape Town and has t…',\n",
            "               'publishedAt': '2020-04-22T10:15:34Z',\n",
            "               'source': {'id': 'engadget', 'name': 'Engadget'},\n",
            "               'title': 'Amazon opens its first cloud data center in Africa',\n",
            "               'url': 'https://www.engadget.com/amazon-opens-its-first-cloud-data-center-in-africa-101534093.html',\n",
            "               'urlToImage': None},\n",
            "              {'author': 'Brendan Hesse and David Murphy',\n",
            "               'content': 'There are over 500,000 stolen Zoom logins floating '\n",
            "                          'around the dark web. Thats not good, especially '\n",
            "                          'since theyre being sold for next to nothing, but '\n",
            "                          'its a great reminder that you should not be using '\n",
            "                          'the same credentials for different services. \\r\\n'\n",
            "                          'You can undoan… [+2021 chars]',\n",
            "               'description': 'There are over 500,000 stolen Zoom logins '\n",
            "                              'floating around the dark web. That’s not good, '\n",
            "                              'especially since they’re being sold for next to '\n",
            "                              'nothing, but it’s a great reminder that you '\n",
            "                              'should not be using the same credentials for '\n",
            "                              'different services. Read more...',\n",
            "               'publishedAt': '2020-04-14T18:15:00Z',\n",
            "               'source': {'id': None, 'name': 'Lifehacker.com'},\n",
            "               'title': 'How to Protect Your Zoom Account From Recent Data '\n",
            "                        'Breaches',\n",
            "               'url': 'https://lifehacker.com/how-to-protect-your-zoom-account-from-recent-data-breac-1842862007',\n",
            "               'urlToImage': None},\n",
            "              {'author': 'Sarah Scoles',\n",
            "               'content': 'The model doesnt just help you get from the office '\n",
            "                          'to Taco Bell: Ships and planescivilian and '\n",
            "                          'militaryalso rely on it. One of NGAs biggest '\n",
            "                          'customers is the military, says Paniccia. If youre '\n",
            "                          'sailing across the ocean in an aircraft carrier, '\n",
            "                          'its very important y… [+3538 chars]',\n",
            "               'description': 'A new competition challenges scientists to '\n",
            "                              \"innovate on how we map Earth's constantly \"\n",
            "                              'shifting magnetic field—and make navigation '\n",
            "                              'safer and more accurate.',\n",
            "               'publishedAt': '2020-03-31T14:00:00Z',\n",
            "               'source': {'id': 'wired', 'name': 'Wired'},\n",
            "               'title': 'The Search for the Next Big Idea in Magnetic Field '\n",
            "                        'Mapping',\n",
            "               'url': 'https://www.wired.com/story/a-global-contest-seeks-the-next-big-idea-in-magnetic-mapping/',\n",
            "               'urlToImage': None},\n",
            "              {'author': 'David Murphy',\n",
            "               'content': 'Dark Sky just announced it has been acquired by '\n",
            "                          'Apple, and with the sale come a few big problems '\n",
            "                          'for fans of the hyper-local weather app. First of '\n",
            "                          'all, the Android app is going away altogetherfor '\n",
            "                          'obvious reasons. You can continue to use it until '\n",
            "                          'July 1, and s… [+4757 chars]',\n",
            "               'description': 'Dark Sky just announced it has been acquired by '\n",
            "                              'Apple, and with the sale come a few big '\n",
            "                              'problems for fans of the hyper-local weather '\n",
            "                              'app. First of all, the Android app is going '\n",
            "                              'away altogether—for obvious reasons. You can '\n",
            "                              'continue to use it until July 1, and …',\n",
            "               'publishedAt': '2020-03-31T21:30:00Z',\n",
            "               'source': {'id': None, 'name': 'Lifehacker.com'},\n",
            "               'title': 'These Weather Apps Are Great Alternatives to the '\n",
            "                        'Apple-Owned Dark Sky',\n",
            "               'url': 'https://lifehacker.com/these-weather-apps-are-great-alternatives-to-the-apple-1842591377',\n",
            "               'urlToImage': None},\n",
            "              {'author': 'Taylor Hatmaker',\n",
            "               'content': 'As the floor drops out from under many startups, '\n",
            "                          'some tech companies are finding a path forward by '\n",
            "                          'meeting new government needs.\\r\\n'\n",
            "                          'Among them is Palantir, a secretive '\n",
            "                          'government-friendly big data operation thats able '\n",
            "                          'to ingest vast amounts of information to vi… [+3218 '\n",
            "                          'chars]',\n",
            "               'description': 'As the floor drops out from under many '\n",
            "                              'startups, some tech companies are finding a '\n",
            "                              'path forward by meeting new government needs. '\n",
            "                              'Among them is Palantir, a secretive '\n",
            "                              'government-friendly big data operation that’s '\n",
            "                              'able to ingest vast amounts of information to '\n",
            "                              'vi…',\n",
            "               'publishedAt': '2020-04-01T17:53:24Z',\n",
            "               'source': {'id': 'techcrunch', 'name': 'TechCrunch'},\n",
            "               'title': 'Palantir provides COVID-19 tracking software to CDC '\n",
            "                        'and NHS, pitches European health agencies',\n",
            "               'url': 'http://techcrunch.com/2020/04/01/palantir-coronavirus-cdc-nhs-gotham-foundry/',\n",
            "               'urlToImage': None},\n",
            "              {'author': 'Julie Shah, Neel Shah',\n",
            "               'content': 'We need to direct computing power toward finding a '\n",
            "                          'solution.\\r\\n'\n",
            "                          '\"&gt;\\r\\n'\n",
            "                          'Executive Summary\\r\\n'\n",
            "                          'Right now during the global pandemic, the awful '\n",
            "                          'choice seems to be between saving lives or saving '\n",
            "                          'livelihoods. The authors — one a roboticist and AI '\n",
            "                          'researcher, one a publ… [+7550 chars]',\n",
            "               'description': 'We need to direct computing power toward '\n",
            "                              'finding a solution.',\n",
            "               'publishedAt': '2020-04-06T15:00:00Z',\n",
            "               'source': {'id': None, 'name': 'Hbr.org'},\n",
            "               'title': 'Fighting Coronavirus with Big Data',\n",
            "               'url': 'https://hbr.org/2020/04/fighting-coronavirus-with-big-data',\n",
            "               'urlToImage': None},\n",
            "              {'author': 'Brendan Hesse',\n",
            "               'content': 'If you use the popular digital wallet app\\xa0Key '\n",
            "                          'Ring, a security update is an immediate must-do. '\n",
            "                          'The app recently\\xa0accidentally exposed the '\n",
            "                          'personal information of over 44 million users due '\n",
            "                          'to misconfigured Amazon Web Service (AWS) cloud '\n",
            "                          'severs (via Threat Post)… [+2697 chars]',\n",
            "               'description': 'If you use the popular digital wallet app\\xa0'\n",
            "                              'Key Ring, a security update is an immediate '\n",
            "                              'must-do. The app recently\\xa0accidentally '\n",
            "                              'exposed the personal information of over 44 '\n",
            "                              'million users due to misconfigured Amazon Web '\n",
            "                              'Service (AWS) cloud severs (via Threat Post)…',\n",
            "               'publishedAt': '2020-04-06T20:30:00Z',\n",
            "               'source': {'id': None, 'name': 'Lifehacker.com'},\n",
            "               'title': 'If You Use the Key Ring App, Update Your Account '\n",
            "                        'Security Now',\n",
            "               'url': 'https://lifehacker.com/if-you-use-the-key-ring-app-update-your-account-securi-1842710522',\n",
            "               'urlToImage': None},\n",
            "              {'author': 'Makena Kelly',\n",
            "               'content': 'The calls follow a Wall Street Journal report\\r\\n'\n",
            "                          'Illustration by Alex Castro / The Verge\\r\\n'\n",
            "                          'Two US lawmakers spearheading an antitrust '\n",
            "                          'investigation into Amazon are looking into whether '\n",
            "                          'a top company official lied before Congress about '\n",
            "                          'whether the e-commerce gian… [+3197 chars]',\n",
            "               'description': 'Reps. Jerry Nadler and David Cicilline are '\n",
            "                              'looking into whether a top Amazon official lied '\n",
            "                              'before Congress about whether the e-commerce '\n",
            "                              'giant uses independent seller data to create '\n",
            "                              'its own products and unfairly compete on its '\n",
            "                              'platform.',\n",
            "               'publishedAt': '2020-04-24T16:02:43Z',\n",
            "               'source': {'id': 'the-verge', 'name': 'The Verge'},\n",
            "               'title': 'Democrats want to know if Amazon ‘lied’ about using '\n",
            "                        'platform data to create products',\n",
            "               'url': 'https://www.theverge.com/2020/4/24/21234522/democrats-david-cicilline-jerry-nadler-amazon-bezos',\n",
            "               'urlToImage': None},\n",
            "              {'author': 'Jacob Kastrenakes',\n",
            "               'content': 'The US government is not willing to talk\\r\\n'\n",
            "                          'Illustration by Alex Castro / The Verge\\r\\n'\n",
            "                          'Huaweis revenue grew by 19.1 percent last year to '\n",
            "                          'around $121 billion, but the company says those '\n",
            "                          'numbers would be far higher if the United States '\n",
            "                          'had not cracked down on its a… [+1437 chars]',\n",
            "               'description': 'Huawei reported its 2019 earnings, saying '\n",
            "                              'growth was hampered by the US trade ban. It was '\n",
            "                              'unable to buy Intel processors and use Google '\n",
            "                              'software, hurting server and phone sales.',\n",
            "               'publishedAt': '2020-03-31T08:05:00Z',\n",
            "               'source': {'id': 'the-verge', 'name': 'The Verge'},\n",
            "               'title': 'Huawei says US trade ban is a ‘big difficulty’ to '\n",
            "                        'selling phones',\n",
            "               'url': 'https://www.theverge.com/2020/3/31/21200183/huawei-2019-earnings-financial-results-us-trade-ban',\n",
            "               'urlToImage': None},\n",
            "              {'author': 'Yessenia Funes on Earther, shared by Brian Kahn to '\n",
            "                         'Gizmodo',\n",
            "               'content': 'These maps show satellite data of nitrogen dioxide '\n",
            "                          'over the Northeast in March, comparing the mean of '\n",
            "                          'the period from 2015 through 2019 with the mean for '\n",
            "                          '2020.\\r\\n'\n",
            "                          'Gif: NASA\\r\\n'\n",
            "                          'You can add the Northeast to the growing list of '\n",
            "                          'regions seeing improved air quality am… [+2189 '\n",
            "                          'chars]',\n",
            "               'description': 'You can add the Northeast to the growing list '\n",
            "                              'of regions seeing improved air quality amid the '\n",
            "                              'ongoing pandemic. We’ve seen these big drops in '\n",
            "                              'air pollution in China and Italy. And '\n",
            "                              'preliminary data from other parts of the world '\n",
            "                              'show similar trends, though it w…',\n",
            "               'publishedAt': '2020-04-13T15:00:00Z',\n",
            "               'source': {'id': None, 'name': 'Gizmodo.com'},\n",
            "               'title': 'Coronavirus Lockdowns Have Reduced Air Pollution by '\n",
            "                        '30 Percent in the Northeast',\n",
            "               'url': 'https://earther.gizmodo.com/coronavirus-lockdowns-have-reduced-air-pollution-by-30-1842836450',\n",
            "               'urlToImage': None},\n",
            "              {'author': 'Mario Barra',\n",
            "               'content': 'Big data analysis is the next innovative technique '\n",
            "                          'that the telecommunications (telecom) sector is '\n",
            "                          'deploying. Big data will tame the '\n",
            "                          'telecommunications abundance of data, and enable '\n",
            "                          'harvesting information gold from existing data '\n",
            "                          'storage. We know that Big data… [+9757 chars]',\n",
            "               'description': 'Big data analysis is the next innovative '\n",
            "                              'technique that the telecommunications (telecom) '\n",
            "                              'sector is deploying. Big data will tame the '\n",
            "                              'telecommunications abundance of data, and '\n",
            "                              'enable harvesting information “gold” from '\n",
            "                              'existing data storage. We know that Big da…',\n",
            "               'publishedAt': '2020-04-08T18:00:10Z',\n",
            "               'source': {'id': None, 'name': 'Readwrite.com'},\n",
            "               'title': 'Big Data in the Telecommunications Ecosystem',\n",
            "               'url': 'https://readwrite.com/2020/04/08/big-data-in-the-telecommunications-ecosystem/',\n",
            "               'urlToImage': None},\n",
            "              {'author': 'Natasha Lomas',\n",
            "               'content': 'The European Data Protection Board (EDPB) has '\n",
            "                          'published guidance for the use of location data and '\n",
            "                          'contacts tracing tools intended to mitigate the '\n",
            "                          'impact of the COVID-19 pandemic.\\r\\n'\n",
            "                          'Europe’s data protection framework wraps around all '\n",
            "                          'such digital interventions,… [+10216 chars]',\n",
            "               'description': 'The European Data Protection Board (EDPB) has '\n",
            "                              'published guidance for the use of location data '\n",
            "                              'and contacts tracing tools intended to mitigate '\n",
            "                              'the impact of the COVID-19 pandemic. Europe’s '\n",
            "                              'data protection framework wraps around all such '\n",
            "                              'digital interventions, …',\n",
            "               'publishedAt': '2020-04-22T13:03:21Z',\n",
            "               'source': {'id': 'techcrunch', 'name': 'TechCrunch'},\n",
            "               'title': 'EU privacy body urges anonymization of location data '\n",
            "                        'for COVID-19 tracking',\n",
            "               'url': 'http://techcrunch.com/2020/04/22/eu-privacy-body-urges-anonymization-of-location-data-for-covid-19-tracking/',\n",
            "               'urlToImage': None},\n",
            "              {'author': 'George Dvorsky on Earther, shared by Brian Kahn to '\n",
            "                         'Gizmodo',\n",
            "               'content': 'Scientists are attributing the 2018 Kilauea '\n",
            "                          'eruption, which destroyed hundreds of homes on '\n",
            "                          'Hawaiis Big Island, to a surprising source: intense '\n",
            "                          'and sustained rainfall.\\r\\n'\n",
            "                          'Excessive precipitation in the months leading up to '\n",
            "                          'the eruption led to the collapse of roc… [+5411 '\n",
            "                          'chars]',\n",
            "               'description': 'Scientists are attributing the 2018 Kilauea '\n",
            "                              'eruption, which destroyed hundreds of homes on '\n",
            "                              'Hawaii’s Big Island, to a surprising source: '\n",
            "                              'intense and sustained rainfall.Read more...',\n",
            "               'publishedAt': '2020-04-22T15:00:00Z',\n",
            "               'source': {'id': None, 'name': 'Gizmodo.com'},\n",
            "               'title': \"Heavy Rainfall May Have Sparked Kilauea's Explosive \"\n",
            "                        '2018 Eruption',\n",
            "               'url': 'https://earther.gizmodo.com/heavy-rainfall-may-have-sparked-kilaueas-explosive-2018-1842999278',\n",
            "               'urlToImage': None},\n",
            "              {'author': 'PCMag',\n",
            "               'content': \"We're all leaning on our mobile data a little more \"\n",
            "                          'these days, which is why AT&amp;T is giving '\n",
            "                          'mobility customers and small businesses a boost to '\n",
            "                          'help them through the COVID-19 crisis.\\r\\n'\n",
            "                          'From April 2 through May 13, the telecom will '\n",
            "                          'automatically increase mobi… [+1789 chars]',\n",
            "               'description': \"We're all leaning on our mobile data a little \"\n",
            "                              'more these days, which is why AT&T is giving '\n",
            "                              'mobility customers and small businesses a boost '\n",
            "                              'to help them through the COVID-19 crisis. From '\n",
            "                              'April 2 through May 13, the telecom will '\n",
            "                              'automatically increase mobile ho…',\n",
            "               'publishedAt': '2020-03-31T16:04:45Z',\n",
            "               'source': {'id': 'mashable', 'name': 'Mashable'},\n",
            "               'title': 'AT&T to increase mobile hotspot data by 15GB in April',\n",
            "               'url': 'https://mashable.com/article/att-coronavirus-mobile-hotspot-data-increase/',\n",
            "               'urlToImage': None},\n",
            "              {'author': 'Rachel Kraus',\n",
            "               'content': 'Sorry, Zoom eavesdroppers.\\xa0\\r\\n'\n",
            "                          'Zoom announced Wednesday that its version 5.0 '\n",
            "                          'update will add some security upgrades that '\n",
            "                          'privacy-minded \"Zoomers\" will appreciate.\\r\\n'\n",
            "                          'Most significantly, Zoom is improving the '\n",
            "                          'encryption standard that it uses, which makes call '\n",
            "                          'data… [+3082 chars]',\n",
            "               'description': 'Sorry, Zoom eavesdroppers.\\xa0\\n'\n",
            "                              'Zoom announced Wednesday that its version 5.0 '\n",
            "                              'update will add some security upgrades that '\n",
            "                              'privacy-minded \"Zoomers\" will appreciate.\\n'\n",
            "                              'Most significantly, Zoom is improving the '\n",
            "                              'encryption standard that it uses, which makes '\n",
            "                              'call data m…',\n",
            "               'publishedAt': '2020-04-22T22:52:52Z',\n",
            "               'source': {'id': 'mashable', 'name': 'Mashable'},\n",
            "               'title': 'Zoom’s encryption update is like ‘skipping two '\n",
            "                        'generations on a smartphone upgrade’',\n",
            "               'url': 'https://mashable.com/article/zoom-encryption-update/',\n",
            "               'urlToImage': None},\n",
            "              {'author': 'Devin Coldewey',\n",
            "               'content': 'It’s hard enough in the first place having to drive '\n",
            "                          'an astronomically expensive rover around a planet '\n",
            "                          'millions of miles away. Doing it from home seems '\n",
            "                          'like a pretty big ask but it turns out NASA’s '\n",
            "                          'Curiosity team is up to it.\\r\\n'\n",
            "                          'The space agency posted today abo… [+1170 chars]',\n",
            "               'description': 'It’s hard enough in the first place having to '\n",
            "                              'drive an astronomically expensive rover around '\n",
            "                              'a planet millions of miles away. Doing it from '\n",
            "                              'home seems like a pretty big ask — but it turns '\n",
            "                              'out NASA’s Curiosity team is up to it. The '\n",
            "                              'space agency posted today ab…',\n",
            "               'publishedAt': '2020-04-14T23:31:25Z',\n",
            "               'source': {'id': 'techcrunch', 'name': 'TechCrunch'},\n",
            "               'title': 'NASA’s Curiosity team is operating the Mars rover '\n",
            "                        'from home',\n",
            "               'url': 'http://techcrunch.com/2020/04/14/nasas-curiosity-team-is-operating-the-mars-rover-from-home/',\n",
            "               'urlToImage': None},\n",
            "              {'author': 'Jordan Crook',\n",
            "               'content': 'Startups big and small, across all industries, are '\n",
            "                          'affected by the novel coronavirus pandemic. From '\n",
            "                          'Etsy to MongoDB, from Twilio to Foursquare, these '\n",
            "                          'companies are looking for ways to capitalize and '\n",
            "                          'ultimately thrive in what has become a survivalist '\n",
            "                          'landscape… [+1275 chars]',\n",
            "               'description': 'Startups big and small, across all industries, '\n",
            "                              'are affected by the novel coronavirus pandemic. '\n",
            "                              'From Etsy to MongoDB, from Twilio to '\n",
            "                              'Foursquare, these companies are looking for '\n",
            "                              'ways to capitalize and ultimately thrive in '\n",
            "                              'what has become a survivalist landscape…',\n",
            "               'publishedAt': '2020-04-08T20:22:50Z',\n",
            "               'source': {'id': 'techcrunch', 'name': 'TechCrunch'},\n",
            "               'title': 'TechCrunch Live: Join USV Managing Director Albert '\n",
            "                        'Wenger for a live chat Thursday at 9am PDT',\n",
            "               'url': 'http://techcrunch.com/2020/04/08/techcrunch-live-join-usv-managing-director-albert-wenger-for-a-live-chat-thursday-at-9am-pdt/',\n",
            "               'urlToImage': None}],\n",
            " 'status': 'ok',\n",
            " 'totalResults': 28851}\n"
          ],
          "name": "stdout"
        }
      ]
    },
    {
      "cell_type": "code",
      "metadata": {
        "id": "CJdbM4Y9Tzyw",
        "colab_type": "code",
        "colab": {}
      },
      "source": [
        "# Now we got the news in json format.The JSON file contains the following data points:\n",
        "\n",
        "# url - The Url of the article\n",
        "# etitile - Title of the article\n",
        "# keywords - Keywords related to the article, includes keywords which are found in meta tags\n",
        "# description - First 100-150 characters of content\n",
        "# modified_date - Article published date\n",
        "# body - Content of the article\n",
        "# title - Title found in the header\n",
        "# author - Author of the article\n",
        "# source_id - source of Article"
      ],
      "execution_count": 0,
      "outputs": []
    },
    {
      "cell_type": "code",
      "metadata": {
        "id": "eM025P0CDKaa",
        "colab_type": "code",
        "outputId": "8d349df3-f5b4-4e16-b6ad-06bee8b1abfb",
        "colab": {
          "base_uri": "https://localhost:8080/",
          "height": 54
        }
      },
      "source": [
        "data=json.dumps(response_json)  # converting json data into string\n",
        "data"
      ],
      "execution_count": 0,
      "outputs": [
        {
          "output_type": "execute_result",
          "data": {
            "text/plain": [
              "'{\"status\": \"ok\", \"totalResults\": 28851, \"articles\": [{\"source\": {\"id\": \"techcrunch\", \"name\": \"TechCrunch\"}, \"author\": \"Ingrid Lunden\", \"title\": \"Collibra nabs another $112.5M at a $2.3B valuation for its big data management platform\", \"description\": \"GDPR and other data protection and privacy regulations \\\\u2014 as well as a significant (and growing) number of data breaches and expos\\\\u00e9es of companies\\\\u2019 privacy policies \\\\u2014 have put a spotlight on not just on the vast troves of data that businesses and other organiz\\\\u2026\", \"url\": \"http://techcrunch.com/2020/04/02/collibra-nabs-another-112-5m-at-a-2-3b-valuation-for-its-big-data-management-platform/\", \"urlToImage\": null, \"publishedAt\": \"2020-04-02T12:00:08Z\", \"content\": \"GDPR and other data protection and privacy regulations \\\\u2014 as well as a significant (and growing) number of data breaches and expos\\\\u00e9es of companies\\\\u2019 privacy policies \\\\u2014 have put a spotlight on not just on the vast troves of data that businesses and other organiz\\\\u2026 [+3286 chars]\"}, {\"source\": {\"id\": \"techcrunch\", \"name\": \"TechCrunch\"}, \"author\": \"Devin Coldewey\", \"title\": \"AI and big data won\\\\u2019t work miracles in the fight against coronavirus\", \"description\": \"To someone with a hammer, every problem looks like a nail \\\\u2014 and as expected, the tech sector is hard at work hammering every nail it can find. But the analytical prowess of the modern data ecosystem is especially limited when attempting to tackle the problem \\\\u2026\", \"url\": \"http://techcrunch.com/2020/03/26/ai-and-big-data-wont-work-miracles-in-the-fight-against-coronavirus/\", \"urlToImage\": null, \"publishedAt\": \"2020-03-26T17:46:00Z\", \"content\": \"To someone with a hammer, every problem looks like a nail and as expected, the tech sector is hard at work hammering every nail it can find. But the analytical prowess of the modern data ecosystem is especially limited when attempting to tackle the problem of\\\\u2026 [+4581 chars]\"}, {\"source\": {\"id\": \"wired\", \"name\": \"Wired\"}, \"author\": \"Natalie Wolchover\", \"title\": \"An Imbalance Among Tiny Particles Offers a Big Cosmology Clue\", \"description\": \"If matter and antimatter cancel each other out, how can the universe exist? A discrepancy in the behavior of neutrinos and antineutrinos hints at an answer.\", \"url\": \"https://www.wired.com/story/an-imbalance-among-tiny-particles-offers-a-big-cosmology-clue/\", \"urlToImage\": null, \"publishedAt\": \"2020-04-19T12:00:00Z\", \"content\": \"Physicists have detected the strongest evidence yet of a behavioral difference between elementary particles called neutrinos and their mirror-image twins, antineutrinos. The asymmetry could be the key to why so much more matter than antimatter arose during th\\\\u2026 [+3511 chars]\"}, {\"source\": {\"id\": \"engadget\", \"name\": \"Engadget\"}, \"author\": \"Rachel England\", \"title\": \"Amazon opens its first cloud data center in Africa\", \"description\": \"Amazon\\\\u2019s cloud data centers have arrived in South Africa, helping millions of people, businesses and organizations to benefit from faster connectivity and viable access to next-generation technology. Amazon Web Services (AWS) is located in Cape Town and has t\\\\u2026\", \"url\": \"https://www.engadget.com/amazon-opens-its-first-cloud-data-center-in-africa-101534093.html\", \"urlToImage\": null, \"publishedAt\": \"2020-04-22T10:15:34Z\", \"content\": \"Amazon\\\\u2019s cloud data centers have arrived in South Africa, helping millions of people, businesses and organizations to benefit from faster connectivity and viable access to next-generation technology. Amazon Web Services (AWS) is located in Cape Town and has t\\\\u2026 [+581 chars]\"}, {\"source\": {\"id\": null, \"name\": \"Lifehacker.com\"}, \"author\": \"Brendan Hesse and David Murphy\", \"title\": \"How to Protect Your Zoom Account From Recent Data Breaches\", \"description\": \"There are over 500,000 stolen Zoom logins floating around the dark web. That\\\\u2019s not good, especially since they\\\\u2019re being sold for next to nothing, but it\\\\u2019s a great reminder that you should not be using the same credentials for different services. Read more...\", \"url\": \"https://lifehacker.com/how-to-protect-your-zoom-account-from-recent-data-breac-1842862007\", \"urlToImage\": null, \"publishedAt\": \"2020-04-14T18:15:00Z\", \"content\": \"There are over 500,000 stolen Zoom logins floating around the dark web. Thats not good, especially since theyre being sold for next to nothing, but its a great reminder that you should not be using the same credentials for different services. \\\\r\\\\nYou can undoan\\\\u2026 [+2021 chars]\"}, {\"source\": {\"id\": \"wired\", \"name\": \"Wired\"}, \"author\": \"Sarah Scoles\", \"title\": \"The Search for the Next Big Idea in Magnetic Field Mapping\", \"description\": \"A new competition challenges scientists to innovate on how we map Earth\\'s constantly shifting magnetic field\\\\u2014and make navigation safer and more accurate.\", \"url\": \"https://www.wired.com/story/a-global-contest-seeks-the-next-big-idea-in-magnetic-mapping/\", \"urlToImage\": null, \"publishedAt\": \"2020-03-31T14:00:00Z\", \"content\": \"The model doesnt just help you get from the office to Taco Bell: Ships and planescivilian and militaryalso rely on it. One of NGAs biggest customers is the military, says Paniccia. If youre sailing across the ocean in an aircraft carrier, its very important y\\\\u2026 [+3538 chars]\"}, {\"source\": {\"id\": null, \"name\": \"Lifehacker.com\"}, \"author\": \"David Murphy\", \"title\": \"These Weather Apps Are Great Alternatives to the Apple-Owned Dark Sky\", \"description\": \"Dark Sky just announced it has been acquired by Apple, and with the sale come a few big problems for fans of the hyper-local weather app. First of all, the Android app is going away altogether\\\\u2014for obvious reasons. You can continue to use it until July 1, and \\\\u2026\", \"url\": \"https://lifehacker.com/these-weather-apps-are-great-alternatives-to-the-apple-1842591377\", \"urlToImage\": null, \"publishedAt\": \"2020-03-31T21:30:00Z\", \"content\": \"Dark Sky just announced it has been acquired by Apple, and with the sale come a few big problems for fans of the hyper-local weather app. First of all, the Android app is going away altogetherfor obvious reasons. You can continue to use it until July 1, and s\\\\u2026 [+4757 chars]\"}, {\"source\": {\"id\": \"techcrunch\", \"name\": \"TechCrunch\"}, \"author\": \"Taylor Hatmaker\", \"title\": \"Palantir provides COVID-19 tracking software to CDC and NHS, pitches European health agencies\", \"description\": \"As the floor drops out from under many startups, some tech companies are finding a path forward by meeting new government needs. Among them is Palantir, a secretive government-friendly big data operation that\\\\u2019s able to ingest vast amounts of information to vi\\\\u2026\", \"url\": \"http://techcrunch.com/2020/04/01/palantir-coronavirus-cdc-nhs-gotham-foundry/\", \"urlToImage\": null, \"publishedAt\": \"2020-04-01T17:53:24Z\", \"content\": \"As the floor drops out from under many startups, some tech companies are finding a path forward by meeting new government needs.\\\\r\\\\nAmong them is Palantir, a secretive government-friendly big data operation thats able to ingest vast amounts of information to vi\\\\u2026 [+3218 chars]\"}, {\"source\": {\"id\": null, \"name\": \"Hbr.org\"}, \"author\": \"Julie Shah, Neel Shah\", \"title\": \"Fighting Coronavirus with Big Data\", \"description\": \"We need to direct computing power toward finding a solution.\", \"url\": \"https://hbr.org/2020/04/fighting-coronavirus-with-big-data\", \"urlToImage\": null, \"publishedAt\": \"2020-04-06T15:00:00Z\", \"content\": \"We need to direct computing power toward finding a solution.\\\\r\\\\n\\\\\"&gt;\\\\r\\\\nExecutive Summary\\\\r\\\\nRight now during the global pandemic, the awful choice seems to be between saving lives or saving livelihoods. The authors \\\\u2014 one a roboticist and AI researcher, one a publ\\\\u2026 [+7550 chars]\"}, {\"source\": {\"id\": null, \"name\": \"Lifehacker.com\"}, \"author\": \"Brendan Hesse\", \"title\": \"If You Use the Key Ring App, Update Your Account Security Now\", \"description\": \"If you use the popular digital wallet app\\\\u00a0Key Ring, a security update is an immediate must-do. The app recently\\\\u00a0accidentally exposed the personal information of over 44 million users due to misconfigured Amazon Web Service (AWS) cloud severs (via Threat Post)\\\\u2026\", \"url\": \"https://lifehacker.com/if-you-use-the-key-ring-app-update-your-account-securi-1842710522\", \"urlToImage\": null, \"publishedAt\": \"2020-04-06T20:30:00Z\", \"content\": \"If you use the popular digital wallet app\\\\u00a0Key Ring, a security update is an immediate must-do. The app recently\\\\u00a0accidentally exposed the personal information of over 44 million users due to misconfigured Amazon Web Service (AWS) cloud severs (via Threat Post)\\\\u2026 [+2697 chars]\"}, {\"source\": {\"id\": \"the-verge\", \"name\": \"The Verge\"}, \"author\": \"Makena Kelly\", \"title\": \"Democrats want to know if Amazon \\\\u2018lied\\\\u2019 about using platform data to create products\", \"description\": \"Reps. Jerry Nadler and David Cicilline are looking into whether a top Amazon official lied before Congress about whether the e-commerce giant uses independent seller data to create its own products and unfairly compete on its platform.\", \"url\": \"https://www.theverge.com/2020/4/24/21234522/democrats-david-cicilline-jerry-nadler-amazon-bezos\", \"urlToImage\": null, \"publishedAt\": \"2020-04-24T16:02:43Z\", \"content\": \"The calls follow a Wall Street Journal report\\\\r\\\\nIllustration by Alex Castro / The Verge\\\\r\\\\nTwo US lawmakers spearheading an antitrust investigation into Amazon are looking into whether a top company official lied before Congress about whether the e-commerce gian\\\\u2026 [+3197 chars]\"}, {\"source\": {\"id\": \"the-verge\", \"name\": \"The Verge\"}, \"author\": \"Jacob Kastrenakes\", \"title\": \"Huawei says US trade ban is a \\\\u2018big difficulty\\\\u2019 to selling phones\", \"description\": \"Huawei reported its 2019 earnings, saying growth was hampered by the US trade ban. It was unable to buy Intel processors and use Google software, hurting server and phone sales.\", \"url\": \"https://www.theverge.com/2020/3/31/21200183/huawei-2019-earnings-financial-results-us-trade-ban\", \"urlToImage\": null, \"publishedAt\": \"2020-03-31T08:05:00Z\", \"content\": \"The US government is not willing to talk\\\\r\\\\nIllustration by Alex Castro / The Verge\\\\r\\\\nHuaweis revenue grew by 19.1 percent last year to around $121 billion, but the company says those numbers would be far higher if the United States had not cracked down on its a\\\\u2026 [+1437 chars]\"}, {\"source\": {\"id\": null, \"name\": \"Gizmodo.com\"}, \"author\": \"Yessenia Funes on Earther, shared by Brian Kahn to Gizmodo\", \"title\": \"Coronavirus Lockdowns Have Reduced Air Pollution by 30 Percent in the Northeast\", \"description\": \"You can add the Northeast to the growing list of regions seeing improved air quality amid the ongoing pandemic. We\\\\u2019ve seen these big drops in air pollution in China and Italy. And preliminary data from other parts of the world show similar trends, though it w\\\\u2026\", \"url\": \"https://earther.gizmodo.com/coronavirus-lockdowns-have-reduced-air-pollution-by-30-1842836450\", \"urlToImage\": null, \"publishedAt\": \"2020-04-13T15:00:00Z\", \"content\": \"These maps show satellite data of nitrogen dioxide over the Northeast in March, comparing the mean of the period from 2015 through 2019 with the mean for 2020.\\\\r\\\\nGif: NASA\\\\r\\\\nYou can add the Northeast to the growing list of regions seeing improved air quality am\\\\u2026 [+2189 chars]\"}, {\"source\": {\"id\": null, \"name\": \"Readwrite.com\"}, \"author\": \"Mario Barra\", \"title\": \"Big Data in the Telecommunications Ecosystem\", \"description\": \"Big data analysis is the next innovative technique that the telecommunications (telecom) sector is deploying. Big data will tame the telecommunications abundance of data, and enable harvesting information \\\\u201cgold\\\\u201d from existing data storage. We know that Big da\\\\u2026\", \"url\": \"https://readwrite.com/2020/04/08/big-data-in-the-telecommunications-ecosystem/\", \"urlToImage\": null, \"publishedAt\": \"2020-04-08T18:00:10Z\", \"content\": \"Big data analysis is the next innovative technique that the telecommunications (telecom) sector is deploying. Big data will tame the telecommunications abundance of data, and enable harvesting information gold from existing data storage. We know that Big data\\\\u2026 [+9757 chars]\"}, {\"source\": {\"id\": \"techcrunch\", \"name\": \"TechCrunch\"}, \"author\": \"Natasha Lomas\", \"title\": \"EU privacy body urges anonymization of location data for COVID-19 tracking\", \"description\": \"The European Data Protection Board (EDPB) has published guidance for the use of location data and contacts tracing tools intended to mitigate the impact of the COVID-19 pandemic. Europe\\\\u2019s data protection framework wraps around all such digital interventions, \\\\u2026\", \"url\": \"http://techcrunch.com/2020/04/22/eu-privacy-body-urges-anonymization-of-location-data-for-covid-19-tracking/\", \"urlToImage\": null, \"publishedAt\": \"2020-04-22T13:03:21Z\", \"content\": \"The European Data Protection Board (EDPB) has published guidance for the use of location data and contacts tracing tools intended to mitigate the impact of the COVID-19 pandemic.\\\\r\\\\nEurope\\\\u2019s data protection framework wraps around all such digital interventions,\\\\u2026 [+10216 chars]\"}, {\"source\": {\"id\": null, \"name\": \"Gizmodo.com\"}, \"author\": \"George Dvorsky on Earther, shared by Brian Kahn to Gizmodo\", \"title\": \"Heavy Rainfall May Have Sparked Kilauea\\'s Explosive 2018 Eruption\", \"description\": \"Scientists are attributing the 2018 Kilauea eruption, which destroyed hundreds of homes on Hawaii\\\\u2019s Big Island, to a surprising source: intense and sustained rainfall.Read more...\", \"url\": \"https://earther.gizmodo.com/heavy-rainfall-may-have-sparked-kilaueas-explosive-2018-1842999278\", \"urlToImage\": null, \"publishedAt\": \"2020-04-22T15:00:00Z\", \"content\": \"Scientists are attributing the 2018 Kilauea eruption, which destroyed hundreds of homes on Hawaiis Big Island, to a surprising source: intense and sustained rainfall.\\\\r\\\\nExcessive precipitation in the months leading up to the eruption led to the collapse of roc\\\\u2026 [+5411 chars]\"}, {\"source\": {\"id\": \"mashable\", \"name\": \"Mashable\"}, \"author\": \"PCMag\", \"title\": \"AT&T to increase mobile hotspot data by 15GB in April\", \"description\": \"We\\'re all leaning on our mobile data a little more these days, which is why AT&T is giving mobility customers and small businesses a boost to help them through the COVID-19 crisis. From April 2 through May 13, the telecom will automatically increase mobile ho\\\\u2026\", \"url\": \"https://mashable.com/article/att-coronavirus-mobile-hotspot-data-increase/\", \"urlToImage\": null, \"publishedAt\": \"2020-03-31T16:04:45Z\", \"content\": \"We\\'re all leaning on our mobile data a little more these days, which is why AT&amp;T is giving mobility customers and small businesses a boost to help them through the COVID-19 crisis.\\\\r\\\\nFrom April 2 through May 13, the telecom will automatically increase mobi\\\\u2026 [+1789 chars]\"}, {\"source\": {\"id\": \"mashable\", \"name\": \"Mashable\"}, \"author\": \"Rachel Kraus\", \"title\": \"Zoom\\\\u2019s encryption update is like \\\\u2018skipping two generations on a smartphone upgrade\\\\u2019\", \"description\": \"Sorry, Zoom eavesdroppers.\\\\u00a0\\\\nZoom announced Wednesday that its version 5.0 update will add some security upgrades that privacy-minded \\\\\"Zoomers\\\\\" will appreciate.\\\\nMost significantly, Zoom is improving the encryption standard that it uses, which makes call data m\\\\u2026\", \"url\": \"https://mashable.com/article/zoom-encryption-update/\", \"urlToImage\": null, \"publishedAt\": \"2020-04-22T22:52:52Z\", \"content\": \"Sorry, Zoom eavesdroppers.\\\\u00a0\\\\r\\\\nZoom announced Wednesday that its version 5.0 update will add some security upgrades that privacy-minded \\\\\"Zoomers\\\\\" will appreciate.\\\\r\\\\nMost significantly, Zoom is improving the encryption standard that it uses, which makes call data\\\\u2026 [+3082 chars]\"}, {\"source\": {\"id\": \"techcrunch\", \"name\": \"TechCrunch\"}, \"author\": \"Devin Coldewey\", \"title\": \"NASA\\\\u2019s Curiosity team is operating the Mars rover from home\", \"description\": \"It\\\\u2019s hard enough in the first place having to drive an astronomically expensive rover around a planet millions of miles away. Doing it from home seems like a pretty big ask \\\\u2014 but it turns out NASA\\\\u2019s Curiosity team is up to it. The space agency posted today ab\\\\u2026\", \"url\": \"http://techcrunch.com/2020/04/14/nasas-curiosity-team-is-operating-the-mars-rover-from-home/\", \"urlToImage\": null, \"publishedAt\": \"2020-04-14T23:31:25Z\", \"content\": \"It\\\\u2019s hard enough in the first place having to drive an astronomically expensive rover around a planet millions of miles away. Doing it from home seems like a pretty big ask but it turns out NASA\\\\u2019s Curiosity team is up to it.\\\\r\\\\nThe space agency posted today abo\\\\u2026 [+1170 chars]\"}, {\"source\": {\"id\": \"techcrunch\", \"name\": \"TechCrunch\"}, \"author\": \"Jordan Crook\", \"title\": \"TechCrunch Live: Join USV Managing Director Albert Wenger for a live chat Thursday at 9am PDT\", \"description\": \"Startups big and small, across all industries, are affected by the novel coronavirus pandemic. From Etsy to MongoDB, from Twilio to Foursquare, these companies are looking for ways to capitalize and ultimately thrive in what has become a survivalist landscape\\\\u2026\", \"url\": \"http://techcrunch.com/2020/04/08/techcrunch-live-join-usv-managing-director-albert-wenger-for-a-live-chat-thursday-at-9am-pdt/\", \"urlToImage\": null, \"publishedAt\": \"2020-04-08T20:22:50Z\", \"content\": \"Startups big and small, across all industries, are affected by the novel coronavirus pandemic. From Etsy to MongoDB, from Twilio to Foursquare, these companies are looking for ways to capitalize and ultimately thrive in what has become a survivalist landscape\\\\u2026 [+1275 chars]\"}]}'"
            ]
          },
          "metadata": {
            "tags": []
          },
          "execution_count": 10
        }
      ]
    },
    {
      "cell_type": "code",
      "metadata": {
        "id": "W37lu_aKhkPC",
        "colab_type": "code",
        "colab": {}
      },
      "source": [
        "# lets make data into readable and processable format(dataframe format)"
      ],
      "execution_count": 0,
      "outputs": []
    },
    {
      "cell_type": "code",
      "metadata": {
        "id": "G36xcdU-Vnu1",
        "colab_type": "code",
        "colab": {}
      },
      "source": [
        "df=[{'author': 'Ingrid Lunden',\n",
        "               'content': 'GDPR and other data protection and privacy '\n",
        "                          'regulations — as well as a significant (and '\n",
        "                          'growing) number of data breaches and exposées of '\n",
        "                          'companies’ privacy policies — have put a spotlight '\n",
        "                          'on not just on the vast troves of data that '\n",
        "                          'businesses and other organiz… [+3286 chars]',\n",
        "               'description': 'GDPR and other data protection and privacy '\n",
        "                              'regulations — as well as a significant (and '\n",
        "                              'growing) number of data breaches and exposées '\n",
        "                              'of companies’ privacy policies — have put a '\n",
        "                              'spotlight on not just on the vast troves of '\n",
        "                              'data that businesses and other organiz…',\n",
        "               'publishedAt': '2020-04-02T12:00:08Z',\n",
        "               'source': {'id': 'techcrunch', 'name': 'TechCrunch'},\n",
        "               'title': 'Collibra nabs another $112.5M at a $2.3B valuation '\n",
        "                        'for its big data management platform',\n",
        "               'url': 'http://techcrunch.com/2020/04/02/collibra-nabs-another-112-5m-at-a-2-3b-valuation-for-its-big-data-management-platform/',\n",
        "               'urlToImage': None},\n",
        "              {'author': 'Beth Skwarecki on Vitals, shared by Beth Skwarecki '\n",
        "                         'to Lifehacker',\n",
        "               'content': 'If you cant look away from the climbing case '\n",
        "                          'counts, look here. A visualization site called '\n",
        "                          '91-DIVOC provides graphs of the epidemic curve, '\n",
        "                          'comparing countries, and allowing you to see them '\n",
        "                          'on either a linear or logarithmic scale. \\r\\n'\n",
        "                          'When cases grow exponentia… [+1558 chars]',\n",
        "               'description': 'If you can’t look away from the climbing case '\n",
        "                              'counts, look here. A visualization site called '\n",
        "                              '91-DIVOC provides graphs of the epidemic curve, '\n",
        "                              'comparing countries, and allowing you to see '\n",
        "                              'them on either a linear or logarithmic scale. '\n",
        "                              'Read more...',\n",
        "               'publishedAt': '2020-03-25T19:45:00Z',\n",
        "               'source': {'id': None, 'name': 'Lifehacker.com'},\n",
        "               'title': \"Here's a New COVID-19 Data Site to Obsessively \"\n",
        "                        'Refresh',\n",
        "               'url': 'https://vitals.lifehacker.com/heres-a-new-covid-19-data-site-to-obsessively-refresh-1842489889',\n",
        "               'urlToImage': None},\n",
        "              {'author': 'Devin Coldewey',\n",
        "               'content': 'To someone with a hammer, every problem looks like '\n",
        "                          'a nail and as expected, the tech sector is hard at '\n",
        "                          'work hammering every nail it can find. But the '\n",
        "                          'analytical prowess of the modern data ecosystem is '\n",
        "                          'especially limited when attempting to tackle the '\n",
        "                          'problem of… [+4581 chars]',\n",
        "               'description': 'To someone with a hammer, every problem looks '\n",
        "                              'like a nail — and as expected, the tech sector '\n",
        "                              'is hard at work hammering every nail it can '\n",
        "                              'find. But the analytical prowess of the modern '\n",
        "                              'data ecosystem is especially limited when '\n",
        "                              'attempting to tackle the problem …',\n",
        "               'publishedAt': '2020-03-26T17:46:00Z',\n",
        "               'source': {'id': 'techcrunch', 'name': 'TechCrunch'},\n",
        "               'title': 'AI and big data won’t work miracles in the fight '\n",
        "                        'against coronavirus',\n",
        "               'url': 'http://techcrunch.com/2020/03/26/ai-and-big-data-wont-work-miracles-in-the-fight-against-coronavirus/',\n",
        "               'urlToImage': None},\n",
        "              {'author': 'Natalie Wolchover',\n",
        "               'content': 'Physicists have detected the strongest evidence yet '\n",
        "                          'of a behavioral difference between elementary '\n",
        "                          'particles called neutrinos and their mirror-image '\n",
        "                          'twins, antineutrinos. The asymmetry could be the '\n",
        "                          'key to why so much more matter than antimatter '\n",
        "                          'arose during th… [+3511 chars]',\n",
        "               'description': 'If matter and antimatter cancel each other out, '\n",
        "                              'how can the universe exist? A discrepancy in '\n",
        "                              'the behavior of neutrinos and antineutrinos '\n",
        "                              'hints at an answer.',\n",
        "               'publishedAt': '2020-04-19T12:00:00Z',\n",
        "               'source': {'id': 'wired', 'name': 'Wired'},\n",
        "               'title': 'An Imbalance Among Tiny Particles Offers a Big '\n",
        "                        'Cosmology Clue',\n",
        "               'url': 'https://www.wired.com/story/an-imbalance-among-tiny-particles-offers-a-big-cosmology-clue/',\n",
        "               'urlToImage': None},\n",
        "              {'author': 'Brendan Hesse and David Murphy',\n",
        "               'content': 'There are over 500,000 stolen Zoom logins floating '\n",
        "                          'around the dark web. Thats not good, especially '\n",
        "                          'since theyre being sold for next to nothing, but '\n",
        "                          'its a great reminder that you should not be using '\n",
        "                          'the same credentials for different services. \\r\\n'\n",
        "                          'You can undoan… [+2021 chars]',\n",
        "               'description': 'There are over 500,000 stolen Zoom logins '\n",
        "                              'floating around the dark web. That’s not good, '\n",
        "                              'especially since they’re being sold for next to '\n",
        "                              'nothing, but it’s a great reminder that you '\n",
        "                              'should not be using the same credentials for '\n",
        "                              'different services. Read more...',\n",
        "               'publishedAt': '2020-04-14T18:15:00Z',\n",
        "               'source': {'id': None, 'name': 'Lifehacker.com'},\n",
        "               'title': 'How to Protect Your Zoom Account From Recent Data '\n",
        "                        'Breaches',\n",
        "               'url': 'https://lifehacker.com/how-to-protect-your-zoom-account-from-recent-data-breac-1842862007',\n",
        "               'urlToImage': None},\n",
        "              {'author': 'Rachel England',\n",
        "               'content': 'Amazon’s cloud data centers have arrived in South '\n",
        "                          'Africa, helping millions of people, businesses and '\n",
        "                          'organizations to benefit from faster connectivity '\n",
        "                          'and viable access to next-generation technology. '\n",
        "                          'Amazon Web Services (AWS) is located in Cape Town '\n",
        "                          'and has t… [+581 chars]',\n",
        "               'description': 'Amazon’s cloud data centers have arrived in '\n",
        "                              'South Africa, helping millions of people, '\n",
        "                              'businesses and organizations to benefit from '\n",
        "                              'faster connectivity and viable access to '\n",
        "                              'next-generation technology. Amazon Web Services '\n",
        "                              '(AWS) is located in Cape Town and has t…',\n",
        "               'publishedAt': '2020-04-22T10:15:34Z',\n",
        "               'source': {'id': 'engadget', 'name': 'Engadget'},\n",
        "               'title': 'Amazon opens its first cloud data center in Africa',\n",
        "               'url': 'https://www.engadget.com/amazon-opens-its-first-cloud-data-center-in-africa-101534093.html',\n",
        "               'urlToImage': None},\n",
        "              {'author': 'Sarah Scoles',\n",
        "               'content': 'The model doesnt just help you get from the office '\n",
        "                          'to Taco Bell: Ships and planescivilian and '\n",
        "                          'militaryalso rely on it. One of NGAs biggest '\n",
        "                          'customers is the military, says Paniccia. If youre '\n",
        "                          'sailing across the ocean in an aircraft carrier, '\n",
        "                          'its very important y… [+3538 chars]',\n",
        "               'description': 'A new competition challenges scientists to '\n",
        "                              \"innovate on how we map Earth's constantly \"\n",
        "                              'shifting magnetic field—and make navigation '\n",
        "                              'safer and more accurate.',\n",
        "               'publishedAt': '2020-03-31T14:00:00Z',\n",
        "               'source': {'id': 'wired', 'name': 'Wired'},\n",
        "               'title': 'The Search for the Next Big Idea in Magnetic Field '\n",
        "                        'Mapping',\n",
        "               'url': 'https://www.wired.com/story/a-global-contest-seeks-the-next-big-idea-in-magnetic-mapping/',\n",
        "               'urlToImage': None},\n",
        "              {'author': 'David Murphy',\n",
        "               'content': 'Dark Sky just announced it has been acquired by '\n",
        "                          'Apple, and with the sale come a few big problems '\n",
        "                          'for fans of the hyper-local weather app. First of '\n",
        "                          'all, the Android app is going away altogetherfor '\n",
        "                          'obvious reasons. You can continue to use it until '\n",
        "                          'July 1, and s… [+4757 chars]',\n",
        "               'description': 'Dark Sky just announced it has been acquired by '\n",
        "                              'Apple, and with the sale come a few big '\n",
        "                              'problems for fans of the hyper-local weather '\n",
        "                              'app. First of all, the Android app is going '\n",
        "                              'away altogether—for obvious reasons. You can '\n",
        "                              'continue to use it until July 1, and …',\n",
        "               'publishedAt': '2020-03-31T21:30:00Z',\n",
        "               'source': {'id': None, 'name': 'Lifehacker.com'},\n",
        "               'title': 'These Weather Apps Are Great Alternatives to the '\n",
        "                        'Apple-Owned Dark Sky',\n",
        "               'url': 'https://lifehacker.com/these-weather-apps-are-great-alternatives-to-the-apple-1842591377',\n",
        "               'urlToImage': None},\n",
        "              {'author': 'Taylor Hatmaker',\n",
        "               'content': 'As the floor drops out from under many startups, '\n",
        "                          'some tech companies are finding a path forward by '\n",
        "                          'meeting new government needs.\\r\\n'\n",
        "                          'Among them is Palantir, a secretive '\n",
        "                          'government-friendly big data operation thats able '\n",
        "                          'to ingest vast amounts of information to vi… [+3218 '\n",
        "                          'chars]',\n",
        "               'description': 'As the floor drops out from under many '\n",
        "                              'startups, some tech companies are finding a '\n",
        "                              'path forward by meeting new government needs. '\n",
        "                              'Among them is Palantir, a secretive '\n",
        "                              'government-friendly big data operation that’s '\n",
        "                              'able to ingest vast amounts of information to '\n",
        "                              'vi…',\n",
        "               'publishedAt': '2020-04-01T17:53:24Z',\n",
        "               'source': {'id': 'techcrunch', 'name': 'TechCrunch'},\n",
        "               'title': 'Palantir provides COVID-19 tracking software to CDC '\n",
        "                        'and NHS, pitches European health agencies',\n",
        "               'url': 'http://techcrunch.com/2020/04/01/palantir-coronavirus-cdc-nhs-gotham-foundry/',\n",
        "               'urlToImage': None},\n",
        "              {'author': 'Julie Shah, Neel Shah',\n",
        "               'content': 'We need to direct computing power toward finding a '\n",
        "                          'solution.\\r\\n'\n",
        "                          '\"&gt;\\r\\n'\n",
        "                          'Executive Summary\\r\\n'\n",
        "                          'Right now during the global pandemic, the awful '\n",
        "                          'choice seems to be between saving lives or saving '\n",
        "                          'livelihoods. The authors — one a roboticist and AI '\n",
        "                          'researcher, one a publ… [+7550 chars]',\n",
        "               'description': 'We need to direct computing power toward '\n",
        "                              'finding a solution.',\n",
        "               'publishedAt': '2020-04-06T15:00:00Z',\n",
        "               'source': {'id': None, 'name': 'Hbr.org'},\n",
        "               'title': 'Fighting Coronavirus with Big Data',\n",
        "               'url': 'https://hbr.org/2020/04/fighting-coronavirus-with-big-data',\n",
        "               'urlToImage': None},\n",
        "              {'author': 'Brendan Hesse',\n",
        "               'content': 'If you use the popular digital wallet app\\xa0Key '\n",
        "                          'Ring, a security update is an immediate must-do. '\n",
        "                          'The app recently\\xa0accidentally exposed the '\n",
        "                          'personal information of over 44 million users due '\n",
        "                          'to misconfigured Amazon Web Service (AWS) cloud '\n",
        "                          'severs (via Threat Post)… [+2697 chars]',\n",
        "               'description': 'If you use the popular digital wallet app\\xa0'\n",
        "                              'Key Ring, a security update is an immediate '\n",
        "                              'must-do. The app recently\\xa0accidentally '\n",
        "                              'exposed the personal information of over 44 '\n",
        "                              'million users due to misconfigured Amazon Web '\n",
        "                              'Service (AWS) cloud severs (via Threat Post)…',\n",
        "               'publishedAt': '2020-04-06T20:30:00Z',\n",
        "               'source': {'id': None, 'name': 'Lifehacker.com'},\n",
        "               'title': 'If You Use the Key Ring App, Update Your Account '\n",
        "                        'Security Now',\n",
        "               'url': 'https://lifehacker.com/if-you-use-the-key-ring-app-update-your-account-securi-1842710522',\n",
        "               'urlToImage': None},\n",
        "              {'author': 'Makena Kelly',\n",
        "               'content': 'The calls follow a Wall Street Journal report\\r\\n'\n",
        "                          'Illustration by Alex Castro / The Verge\\r\\n'\n",
        "                          'Two US lawmakers spearheading an antitrust '\n",
        "                          'investigation into Amazon are looking into whether '\n",
        "                          'a top company official lied before Congress about '\n",
        "                          'whether the e-commerce gian… [+3197 chars]',\n",
        "               'description': 'Reps. Jerry Nadler and David Cicilline are '\n",
        "                              'looking into whether a top Amazon official lied '\n",
        "                              'before Congress about whether the e-commerce '\n",
        "                              'giant uses independent seller data to create '\n",
        "                              'its own products and unfairly compete on its '\n",
        "                              'platform.',\n",
        "               'publishedAt': '2020-04-24T16:02:43Z',\n",
        "               'source': {'id': 'the-verge', 'name': 'The Verge'},\n",
        "               'title': 'Democrats want to know if Amazon ‘lied’ about using '\n",
        "                        'platform data to create products',\n",
        "               'url': 'https://www.theverge.com/2020/4/24/21234522/democrats-david-cicilline-jerry-nadler-amazon-bezos',\n",
        "               'urlToImage': None},\n",
        "              {'author': 'Jacob Kastrenakes',\n",
        "               'content': 'The US government is not willing to talk\\r\\n'\n",
        "                          'Illustration by Alex Castro / The Verge\\r\\n'\n",
        "                          'Huaweis revenue grew by 19.1 percent last year to '\n",
        "                          'around $121 billion, but the company says those '\n",
        "                          'numbers would be far higher if the United States '\n",
        "                          'had not cracked down on its a… [+1437 chars]',\n",
        "               'description': 'Huawei reported its 2019 earnings, saying '\n",
        "                              'growth was hampered by the US trade ban. It was '\n",
        "                              'unable to buy Intel processors and use Google '\n",
        "                              'software, hurting server and phone sales.',\n",
        "               'publishedAt': '2020-03-31T08:05:00Z',\n",
        "               'source': {'id': 'the-verge', 'name': 'The Verge'},\n",
        "               'title': 'Huawei says US trade ban is a ‘big difficulty’ to '\n",
        "                        'selling phones',\n",
        "               'url': 'https://www.theverge.com/2020/3/31/21200183/huawei-2019-earnings-financial-results-us-trade-ban',\n",
        "               'urlToImage': None},\n",
        "              {'author': 'Yessenia Funes on Earther, shared by Brian Kahn to '\n",
        "                         'Gizmodo',\n",
        "               'content': 'These maps show satellite data of nitrogen dioxide '\n",
        "                          'over the Northeast in March, comparing the mean of '\n",
        "                          'the period from 2015 through 2019 with the mean for '\n",
        "                          '2020.\\r\\n'\n",
        "                          'Gif: NASA\\r\\n'\n",
        "                          'You can add the Northeast to the growing list of '\n",
        "                          'regions seeing improved air quality am… [+2189 '\n",
        "                          'chars]',\n",
        "               'description': 'You can add the Northeast to the growing list '\n",
        "                              'of regions seeing improved air quality amid the '\n",
        "                              'ongoing pandemic. We’ve seen these big drops in '\n",
        "                              'air pollution in China and Italy. And '\n",
        "                              'preliminary data from other parts of the world '\n",
        "                              'show similar trends, though it w…',\n",
        "               'publishedAt': '2020-04-13T15:00:00Z',\n",
        "               'source': {'id': None, 'name': 'Gizmodo.com'},\n",
        "               'title': 'Coronavirus Lockdowns Have Reduced Air Pollution by '\n",
        "                        '30 Percent in the Northeast',\n",
        "               'url': 'https://earther.gizmodo.com/coronavirus-lockdowns-have-reduced-air-pollution-by-30-1842836450',\n",
        "               'urlToImage': None},\n",
        "              {'author': 'Ingrid Lunden',\n",
        "               'content': 'One of the big challenges (among many) with the '\n",
        "                          'coronavirus pandemic is that overwhelmed health '\n",
        "                          'services do not always know how best to deploy the '\n",
        "                          'limited resources that they have to meet the demand '\n",
        "                          'of people falling ill with Covid-19. For example, '\n",
        "                          'we know th… [+8505 chars]',\n",
        "               'description': 'One of the big challenges (among many) with the '\n",
        "                              'coronavirus pandemic is that overwhelmed health '\n",
        "                              'services do not always know how best to deploy '\n",
        "                              'the limited resources that they have to meet '\n",
        "                              'the demand of people falling ill with Covid-19. '\n",
        "                              'For example, we know th…',\n",
        "               'publishedAt': '2020-03-25T16:12:59Z',\n",
        "               'source': {'id': 'techcrunch', 'name': 'TechCrunch'},\n",
        "               'title': 'Self-reporting app for Covid-19 symptoms for UK '\n",
        "                        'research sees 650k downloads in 24 hours',\n",
        "               'url': 'http://techcrunch.com/2020/03/25/self-reporting-app-for-covid-19-symptoms-for-uk-research-sees-650k-downloads-in-24-hours/',\n",
        "               'urlToImage': None},\n",
        "              {'author': 'Mario Barra',\n",
        "               'content': 'Big data analysis is the next innovative technique '\n",
        "                          'that the telecommunications (telecom) sector is '\n",
        "                          'deploying. Big data will tame the '\n",
        "                          'telecommunications abundance of data, and enable '\n",
        "                          'harvesting information gold from existing data '\n",
        "                          'storage. We know that Big data… [+9757 chars]',\n",
        "               'description': 'Big data analysis is the next innovative '\n",
        "                              'technique that the telecommunications (telecom) '\n",
        "                              'sector is deploying. Big data will tame the '\n",
        "                              'telecommunications abundance of data, and '\n",
        "                              'enable harvesting information “gold” from '\n",
        "                              'existing data storage. We know that Big da…',\n",
        "               'publishedAt': '2020-04-08T18:00:10Z',\n",
        "               'source': {'id': None, 'name': 'Readwrite.com'},\n",
        "               'title': 'Big Data in the Telecommunications Ecosystem',\n",
        "               'url': 'https://readwrite.com/2020/04/08/big-data-in-the-telecommunications-ecosystem/',\n",
        "               'urlToImage': None},\n",
        "              {'author': 'Natasha Mascarenhas',\n",
        "               'content': 'Brex wants to help startups get the money that '\n",
        "                          'traditional big banks wont lend them, and it just '\n",
        "                          'acquired three companies to help it do so: Neji, '\n",
        "                          'Compose Labs and Landria. Per Brex, 12 new people '\n",
        "                          'will be joining Brex in total from the three '\n",
        "                          'companies.\\xa0\\r\\n'\n",
        "                          'While… [+2807 chars]',\n",
        "               'description': 'Brex wants to help startups get the money that '\n",
        "                              'traditional big banks won’t lend them, and it '\n",
        "                              'just acquired three companies to help it do so: '\n",
        "                              'Neji, Compose Labs and Landria. Per Brex, 12 '\n",
        "                              'new people will be joining Brex in total from '\n",
        "                              'the three companies. While …',\n",
        "               'publishedAt': '2020-03-24T13:03:04Z',\n",
        "               'source': {'id': 'techcrunch', 'name': 'TechCrunch'},\n",
        "               'title': 'Brex acquires three companies to build out its bank '\n",
        "                        'alternative for startups',\n",
        "               'url': 'http://techcrunch.com/2020/03/24/brex-acquires-three-companies-to-build-out-its-bank-alternative-for-startups/',\n",
        "               'urlToImage': None},\n",
        "              {'author': 'George Dvorsky on Earther, shared by Brian Kahn to '\n",
        "                         'Gizmodo',\n",
        "               'content': 'Scientists are attributing the 2018 Kilauea '\n",
        "                          'eruption, which destroyed hundreds of homes on '\n",
        "                          'Hawaiis Big Island, to a surprising source: intense '\n",
        "                          'and sustained rainfall.\\r\\n'\n",
        "                          'Excessive precipitation in the months leading up to '\n",
        "                          'the eruption led to the collapse of roc… [+5411 '\n",
        "                          'chars]',\n",
        "               'description': 'Scientists are attributing the 2018 Kilauea '\n",
        "                              'eruption, which destroyed hundreds of homes on '\n",
        "                              'Hawaii’s Big Island, to a surprising source: '\n",
        "                              'intense and sustained rainfall.Read more...',\n",
        "               'publishedAt': '2020-04-22T15:00:00Z',\n",
        "               'source': {'id': None, 'name': 'Gizmodo.com'},\n",
        "               'title': \"Heavy Rainfall May Have Sparked Kilauea's Explosive \"\n",
        "                        '2018 Eruption',\n",
        "               'url': 'https://earther.gizmodo.com/heavy-rainfall-may-have-sparked-kilaueas-explosive-2018-1842999278',\n",
        "               'urlToImage': None},\n",
        "              {'author': 'Natasha Lomas',\n",
        "               'content': 'The European Data Protection Board (EDPB) has '\n",
        "                          'published guidance for the use of location data and '\n",
        "                          'contacts tracing tools intended to mitigate the '\n",
        "                          'impact of the COVID-19 pandemic.\\r\\n'\n",
        "                          'Europe’s data protection framework wraps around all '\n",
        "                          'such digital interventions,… [+10216 chars]',\n",
        "               'description': 'The European Data Protection Board (EDPB) has '\n",
        "                              'published guidance for the use of location data '\n",
        "                              'and contacts tracing tools intended to mitigate '\n",
        "                              'the impact of the COVID-19 pandemic. Europe’s '\n",
        "                              'data protection framework wraps around all such '\n",
        "                              'digital interventions, …',\n",
        "               'publishedAt': '2020-04-22T13:03:21Z',\n",
        "               'source': {'id': 'techcrunch', 'name': 'TechCrunch'},\n",
        "               'title': 'EU privacy body urges anonymization of location data '\n",
        "                        'for COVID-19 tracking',\n",
        "               'url': 'http://techcrunch.com/2020/04/22/eu-privacy-body-urges-anonymization-of-location-data-for-covid-19-tracking/',\n",
        "               'urlToImage': None},\n",
        "              {'author': 'PCMag',\n",
        "               'content': \"We're all leaning on our mobile data a little more \"\n",
        "                          'these days, which is why AT&amp;T is giving '\n",
        "                          'mobility customers and small businesses a boost to '\n",
        "                          'help them through the COVID-19 crisis.\\r\\n'\n",
        "                          'From April 2 through May 13, the telecom will '\n",
        "                          'automatically increase mobi… [+1789 chars]',\n",
        "               'description': \"We're all leaning on our mobile data a little \"\n",
        "                              'more these days, which is why AT&T is giving '\n",
        "                              'mobility customers and small businesses a boost '\n",
        "                              'to help them through the COVID-19 crisis. From '\n",
        "                              'April 2 through May 13, the telecom will '\n",
        "                              'automatically increase mobile ho…',\n",
        "               'publishedAt': '2020-03-31T16:04:45Z',\n",
        "               'source': {'id': 'mashable', 'name': 'Mashable'},\n",
        "               'title': 'AT&T to increase mobile hotspot data by 15GB in April',\n",
        "               'url': 'https://mashable.com/article/att-coronavirus-mobile-hotspot-data-increase/',\n",
        "               'urlToImage': None}]"
      ],
      "execution_count": 0,
      "outputs": []
    },
    {
      "cell_type": "code",
      "metadata": {
        "id": "F2G-sExoT1tK",
        "colab_type": "code",
        "colab": {}
      },
      "source": [
        "from pandas.io.json import json_normalize"
      ],
      "execution_count": 0,
      "outputs": []
    },
    {
      "cell_type": "code",
      "metadata": {
        "id": "ZVOtKMTcLPFL",
        "colab_type": "code",
        "colab": {}
      },
      "source": [
        "reqd_data = pd.DataFrame.from_dict(json_normalize(df), orient='columns') # required converted data(json to csv format) for durther processing"
      ],
      "execution_count": 0,
      "outputs": []
    },
    {
      "cell_type": "code",
      "metadata": {
        "id": "aawDeaNVLPW8",
        "colab_type": "code",
        "outputId": "2234cb14-97ca-459d-c336-0904fa098173",
        "colab": {
          "base_uri": "https://localhost:8080/",
          "height": 318
        }
      },
      "source": [
        "reqd_data.head(2)  # showing first five records of data"
      ],
      "execution_count": 0,
      "outputs": [
        {
          "output_type": "execute_result",
          "data": {
            "text/html": [
              "<div>\n",
              "<style scoped>\n",
              "    .dataframe tbody tr th:only-of-type {\n",
              "        vertical-align: middle;\n",
              "    }\n",
              "\n",
              "    .dataframe tbody tr th {\n",
              "        vertical-align: top;\n",
              "    }\n",
              "\n",
              "    .dataframe thead th {\n",
              "        text-align: right;\n",
              "    }\n",
              "</style>\n",
              "<table border=\"1\" class=\"dataframe\">\n",
              "  <thead>\n",
              "    <tr style=\"text-align: right;\">\n",
              "      <th></th>\n",
              "      <th>author</th>\n",
              "      <th>content</th>\n",
              "      <th>description</th>\n",
              "      <th>publishedAt</th>\n",
              "      <th>title</th>\n",
              "      <th>url</th>\n",
              "      <th>urlToImage</th>\n",
              "      <th>source.id</th>\n",
              "      <th>source.name</th>\n",
              "    </tr>\n",
              "  </thead>\n",
              "  <tbody>\n",
              "    <tr>\n",
              "      <th>0</th>\n",
              "      <td>Ingrid Lunden</td>\n",
              "      <td>GDPR and other data protection and privacy reg...</td>\n",
              "      <td>GDPR and other data protection and privacy reg...</td>\n",
              "      <td>2020-04-02T12:00:08Z</td>\n",
              "      <td>Collibra nabs another $112.5M at a $2.3B valua...</td>\n",
              "      <td>http://techcrunch.com/2020/04/02/collibra-nabs...</td>\n",
              "      <td>None</td>\n",
              "      <td>techcrunch</td>\n",
              "      <td>TechCrunch</td>\n",
              "    </tr>\n",
              "    <tr>\n",
              "      <th>1</th>\n",
              "      <td>Beth Skwarecki on Vitals, shared by Beth Skwar...</td>\n",
              "      <td>If you cant look away from the climbing case c...</td>\n",
              "      <td>If you can’t look away from the climbing case ...</td>\n",
              "      <td>2020-03-25T19:45:00Z</td>\n",
              "      <td>Here's a New COVID-19 Data Site to Obsessively...</td>\n",
              "      <td>https://vitals.lifehacker.com/heres-a-new-covi...</td>\n",
              "      <td>None</td>\n",
              "      <td>None</td>\n",
              "      <td>Lifehacker.com</td>\n",
              "    </tr>\n",
              "  </tbody>\n",
              "</table>\n",
              "</div>"
            ],
            "text/plain": [
              "                                              author  ...     source.name\n",
              "0                                      Ingrid Lunden  ...      TechCrunch\n",
              "1  Beth Skwarecki on Vitals, shared by Beth Skwar...  ...  Lifehacker.com\n",
              "\n",
              "[2 rows x 9 columns]"
            ]
          },
          "metadata": {
            "tags": []
          },
          "execution_count": 15
        }
      ]
    },
    {
      "cell_type": "code",
      "metadata": {
        "id": "SBQK1sqoLPh7",
        "colab_type": "code",
        "outputId": "7794b8e7-8862-4486-8ecd-916543be8ef5",
        "colab": {
          "base_uri": "https://localhost:8080/",
          "height": 34
        }
      },
      "source": [
        "print(\"The size of dataset of news articles is\", reqd_data.shape)"
      ],
      "execution_count": 0,
      "outputs": [
        {
          "output_type": "stream",
          "text": [
            "The size of dataset of news articles is (20, 9)\n"
          ],
          "name": "stdout"
        }
      ]
    },
    {
      "cell_type": "code",
      "metadata": {
        "id": "K_lEuTeVLPyU",
        "colab_type": "code",
        "outputId": "25501ac5-b334-48eb-f9a1-6a9908b9d64d",
        "colab": {
          "base_uri": "https://localhost:8080/",
          "height": 68
        }
      },
      "source": [
        "reqd_data.columns   # checking all columns of data"
      ],
      "execution_count": 0,
      "outputs": [
        {
          "output_type": "execute_result",
          "data": {
            "text/plain": [
              "Index(['author', 'content', 'description', 'publishedAt', 'title', 'url',\n",
              "       'urlToImage', 'source.id', 'source.name'],\n",
              "      dtype='object')"
            ]
          },
          "metadata": {
            "tags": []
          },
          "execution_count": 17
        }
      ]
    },
    {
      "cell_type": "code",
      "metadata": {
        "id": "HmdtcGMxLQOY",
        "colab_type": "code",
        "colab": {}
      },
      "source": [
        "# Now we will remove columns from this which have no use for us for further processing"
      ],
      "execution_count": 0,
      "outputs": []
    },
    {
      "cell_type": "code",
      "metadata": {
        "id": "dvJblYpVLQik",
        "colab_type": "code",
        "colab": {}
      },
      "source": [
        "reqd_data=reqd_data.drop(['content','url','urlToImage', 'source.name', 'source.id'], axis=1) # removing unuseful columns"
      ],
      "execution_count": 0,
      "outputs": []
    },
    {
      "cell_type": "code",
      "metadata": {
        "id": "8_LuYbhKLQpr",
        "colab_type": "code",
        "outputId": "5401b998-4464-4be3-8660-7e08b05cf9f1",
        "colab": {
          "base_uri": "https://localhost:8080/",
          "height": 289
        }
      },
      "source": [
        "reqd_data.head() # after removal unuseful data"
      ],
      "execution_count": 0,
      "outputs": [
        {
          "output_type": "execute_result",
          "data": {
            "text/html": [
              "<div>\n",
              "<style scoped>\n",
              "    .dataframe tbody tr th:only-of-type {\n",
              "        vertical-align: middle;\n",
              "    }\n",
              "\n",
              "    .dataframe tbody tr th {\n",
              "        vertical-align: top;\n",
              "    }\n",
              "\n",
              "    .dataframe thead th {\n",
              "        text-align: right;\n",
              "    }\n",
              "</style>\n",
              "<table border=\"1\" class=\"dataframe\">\n",
              "  <thead>\n",
              "    <tr style=\"text-align: right;\">\n",
              "      <th></th>\n",
              "      <th>author</th>\n",
              "      <th>description</th>\n",
              "      <th>publishedAt</th>\n",
              "      <th>title</th>\n",
              "    </tr>\n",
              "  </thead>\n",
              "  <tbody>\n",
              "    <tr>\n",
              "      <th>0</th>\n",
              "      <td>Ingrid Lunden</td>\n",
              "      <td>GDPR and other data protection and privacy reg...</td>\n",
              "      <td>2020-04-02 12:00:08+00:00</td>\n",
              "      <td>Collibra nabs another $112.5M at a $2.3B valua...</td>\n",
              "    </tr>\n",
              "    <tr>\n",
              "      <th>1</th>\n",
              "      <td>Beth Skwarecki on Vitals, shared by Beth Skwar...</td>\n",
              "      <td>If you can’t look away from the climbing case ...</td>\n",
              "      <td>2020-03-25 19:45:00+00:00</td>\n",
              "      <td>Here's a New COVID-19 Data Site to Obsessively...</td>\n",
              "    </tr>\n",
              "    <tr>\n",
              "      <th>2</th>\n",
              "      <td>Devin Coldewey</td>\n",
              "      <td>To someone with a hammer, every problem looks ...</td>\n",
              "      <td>2020-03-26 17:46:00+00:00</td>\n",
              "      <td>AI and big data won’t work miracles in the fig...</td>\n",
              "    </tr>\n",
              "    <tr>\n",
              "      <th>3</th>\n",
              "      <td>Natalie Wolchover</td>\n",
              "      <td>If matter and antimatter cancel each other out...</td>\n",
              "      <td>2020-04-19 12:00:00+00:00</td>\n",
              "      <td>An Imbalance Among Tiny Particles Offers a Big...</td>\n",
              "    </tr>\n",
              "    <tr>\n",
              "      <th>4</th>\n",
              "      <td>Brendan Hesse and David Murphy</td>\n",
              "      <td>There are over 500,000 stolen Zoom logins floa...</td>\n",
              "      <td>2020-04-14 18:15:00+00:00</td>\n",
              "      <td>How to Protect Your Zoom Account From Recent D...</td>\n",
              "    </tr>\n",
              "  </tbody>\n",
              "</table>\n",
              "</div>"
            ],
            "text/plain": [
              "                                              author  ...                                              title\n",
              "0                                      Ingrid Lunden  ...  Collibra nabs another $112.5M at a $2.3B valua...\n",
              "1  Beth Skwarecki on Vitals, shared by Beth Skwar...  ...  Here's a New COVID-19 Data Site to Obsessively...\n",
              "2                                     Devin Coldewey  ...  AI and big data won’t work miracles in the fig...\n",
              "3                                  Natalie Wolchover  ...  An Imbalance Among Tiny Particles Offers a Big...\n",
              "4                     Brendan Hesse and David Murphy  ...  How to Protect Your Zoom Account From Recent D...\n",
              "\n",
              "[5 rows x 4 columns]"
            ]
          },
          "metadata": {
            "tags": []
          },
          "execution_count": 106
        }
      ]
    },
    {
      "cell_type": "code",
      "metadata": {
        "id": "Yl77sMHnN64I",
        "colab_type": "code",
        "colab": {}
      },
      "source": [
        "# Lets convert column format into usable format"
      ],
      "execution_count": 0,
      "outputs": []
    },
    {
      "cell_type": "code",
      "metadata": {
        "id": "j_ta4J8jLQwC",
        "colab_type": "code",
        "colab": {}
      },
      "source": [
        "reqd_data['publishedAt']=pd.to_datetime(reqd_data['publishedAt'])"
      ],
      "execution_count": 0,
      "outputs": []
    },
    {
      "cell_type": "code",
      "metadata": {
        "id": "_cjXePryLQ7K",
        "colab_type": "code",
        "outputId": "37585b0e-fd2e-4c20-c763-a68f28e985ab",
        "colab": {
          "base_uri": "https://localhost:8080/",
          "height": 289
        }
      },
      "source": [
        "reqd_data.head()"
      ],
      "execution_count": 0,
      "outputs": [
        {
          "output_type": "execute_result",
          "data": {
            "text/html": [
              "<div>\n",
              "<style scoped>\n",
              "    .dataframe tbody tr th:only-of-type {\n",
              "        vertical-align: middle;\n",
              "    }\n",
              "\n",
              "    .dataframe tbody tr th {\n",
              "        vertical-align: top;\n",
              "    }\n",
              "\n",
              "    .dataframe thead th {\n",
              "        text-align: right;\n",
              "    }\n",
              "</style>\n",
              "<table border=\"1\" class=\"dataframe\">\n",
              "  <thead>\n",
              "    <tr style=\"text-align: right;\">\n",
              "      <th></th>\n",
              "      <th>author</th>\n",
              "      <th>description</th>\n",
              "      <th>publishedAt</th>\n",
              "      <th>title</th>\n",
              "    </tr>\n",
              "  </thead>\n",
              "  <tbody>\n",
              "    <tr>\n",
              "      <th>0</th>\n",
              "      <td>Ingrid Lunden</td>\n",
              "      <td>GDPR and other data protection and privacy reg...</td>\n",
              "      <td>2020-04-02 12:00:08+00:00</td>\n",
              "      <td>Collibra nabs another $112.5M at a $2.3B valua...</td>\n",
              "    </tr>\n",
              "    <tr>\n",
              "      <th>1</th>\n",
              "      <td>Beth Skwarecki on Vitals, shared by Beth Skwar...</td>\n",
              "      <td>If you can’t look away from the climbing case ...</td>\n",
              "      <td>2020-03-25 19:45:00+00:00</td>\n",
              "      <td>Here's a New COVID-19 Data Site to Obsessively...</td>\n",
              "    </tr>\n",
              "    <tr>\n",
              "      <th>2</th>\n",
              "      <td>Devin Coldewey</td>\n",
              "      <td>To someone with a hammer, every problem looks ...</td>\n",
              "      <td>2020-03-26 17:46:00+00:00</td>\n",
              "      <td>AI and big data won’t work miracles in the fig...</td>\n",
              "    </tr>\n",
              "    <tr>\n",
              "      <th>3</th>\n",
              "      <td>Natalie Wolchover</td>\n",
              "      <td>If matter and antimatter cancel each other out...</td>\n",
              "      <td>2020-04-19 12:00:00+00:00</td>\n",
              "      <td>An Imbalance Among Tiny Particles Offers a Big...</td>\n",
              "    </tr>\n",
              "    <tr>\n",
              "      <th>4</th>\n",
              "      <td>Brendan Hesse and David Murphy</td>\n",
              "      <td>There are over 500,000 stolen Zoom logins floa...</td>\n",
              "      <td>2020-04-14 18:15:00+00:00</td>\n",
              "      <td>How to Protect Your Zoom Account From Recent D...</td>\n",
              "    </tr>\n",
              "  </tbody>\n",
              "</table>\n",
              "</div>"
            ],
            "text/plain": [
              "                                              author  ...                                              title\n",
              "0                                      Ingrid Lunden  ...  Collibra nabs another $112.5M at a $2.3B valua...\n",
              "1  Beth Skwarecki on Vitals, shared by Beth Skwar...  ...  Here's a New COVID-19 Data Site to Obsessively...\n",
              "2                                     Devin Coldewey  ...  AI and big data won’t work miracles in the fig...\n",
              "3                                  Natalie Wolchover  ...  An Imbalance Among Tiny Particles Offers a Big...\n",
              "4                     Brendan Hesse and David Murphy  ...  How to Protect Your Zoom Account From Recent D...\n",
              "\n",
              "[5 rows x 4 columns]"
            ]
          },
          "metadata": {
            "tags": []
          },
          "execution_count": 23
        }
      ]
    },
    {
      "cell_type": "code",
      "metadata": {
        "id": "VQcd0Ib6OR-G",
        "colab_type": "code",
        "colab": {}
      },
      "source": [
        "# Lets change the column names for more presentable data"
      ],
      "execution_count": 0,
      "outputs": []
    },
    {
      "cell_type": "code",
      "metadata": {
        "id": "eAEetNxBLRGX",
        "colab_type": "code",
        "colab": {}
      },
      "source": [
        "final_data = reqd_data[['author', 'description', 'publishedAt', 'title']]                        # Extracting only useful columns into another df   \n",
        "final_data.columns = ['author','body', 'publish_date', 'title']"
      ],
      "execution_count": 0,
      "outputs": []
    },
    {
      "cell_type": "code",
      "metadata": {
        "id": "F3KCBqc9LRNI",
        "colab_type": "code",
        "outputId": "f0a528da-22b7-4ea6-ea96-03df547374d2",
        "colab": {
          "base_uri": "https://localhost:8080/",
          "height": 289
        }
      },
      "source": [
        "final_data.head()  # final data with required and properly named columns"
      ],
      "execution_count": 0,
      "outputs": [
        {
          "output_type": "execute_result",
          "data": {
            "text/html": [
              "<div>\n",
              "<style scoped>\n",
              "    .dataframe tbody tr th:only-of-type {\n",
              "        vertical-align: middle;\n",
              "    }\n",
              "\n",
              "    .dataframe tbody tr th {\n",
              "        vertical-align: top;\n",
              "    }\n",
              "\n",
              "    .dataframe thead th {\n",
              "        text-align: right;\n",
              "    }\n",
              "</style>\n",
              "<table border=\"1\" class=\"dataframe\">\n",
              "  <thead>\n",
              "    <tr style=\"text-align: right;\">\n",
              "      <th></th>\n",
              "      <th>author</th>\n",
              "      <th>body</th>\n",
              "      <th>publish_date</th>\n",
              "      <th>title</th>\n",
              "    </tr>\n",
              "  </thead>\n",
              "  <tbody>\n",
              "    <tr>\n",
              "      <th>0</th>\n",
              "      <td>Ingrid Lunden</td>\n",
              "      <td>GDPR and other data protection and privacy reg...</td>\n",
              "      <td>2020-04-02 12:00:08+00:00</td>\n",
              "      <td>Collibra nabs another $112.5M at a $2.3B valua...</td>\n",
              "    </tr>\n",
              "    <tr>\n",
              "      <th>1</th>\n",
              "      <td>Beth Skwarecki on Vitals, shared by Beth Skwar...</td>\n",
              "      <td>If you can’t look away from the climbing case ...</td>\n",
              "      <td>2020-03-25 19:45:00+00:00</td>\n",
              "      <td>Here's a New COVID-19 Data Site to Obsessively...</td>\n",
              "    </tr>\n",
              "    <tr>\n",
              "      <th>2</th>\n",
              "      <td>Devin Coldewey</td>\n",
              "      <td>To someone with a hammer, every problem looks ...</td>\n",
              "      <td>2020-03-26 17:46:00+00:00</td>\n",
              "      <td>AI and big data won’t work miracles in the fig...</td>\n",
              "    </tr>\n",
              "    <tr>\n",
              "      <th>3</th>\n",
              "      <td>Natalie Wolchover</td>\n",
              "      <td>If matter and antimatter cancel each other out...</td>\n",
              "      <td>2020-04-19 12:00:00+00:00</td>\n",
              "      <td>An Imbalance Among Tiny Particles Offers a Big...</td>\n",
              "    </tr>\n",
              "    <tr>\n",
              "      <th>4</th>\n",
              "      <td>Brendan Hesse and David Murphy</td>\n",
              "      <td>There are over 500,000 stolen Zoom logins floa...</td>\n",
              "      <td>2020-04-14 18:15:00+00:00</td>\n",
              "      <td>How to Protect Your Zoom Account From Recent D...</td>\n",
              "    </tr>\n",
              "  </tbody>\n",
              "</table>\n",
              "</div>"
            ],
            "text/plain": [
              "                                              author  ...                                              title\n",
              "0                                      Ingrid Lunden  ...  Collibra nabs another $112.5M at a $2.3B valua...\n",
              "1  Beth Skwarecki on Vitals, shared by Beth Skwar...  ...  Here's a New COVID-19 Data Site to Obsessively...\n",
              "2                                     Devin Coldewey  ...  AI and big data won’t work miracles in the fig...\n",
              "3                                  Natalie Wolchover  ...  An Imbalance Among Tiny Particles Offers a Big...\n",
              "4                     Brendan Hesse and David Murphy  ...  How to Protect Your Zoom Account From Recent D...\n",
              "\n",
              "[5 rows x 4 columns]"
            ]
          },
          "metadata": {
            "tags": []
          },
          "execution_count": 26
        }
      ]
    },
    {
      "cell_type": "code",
      "metadata": {
        "id": "h0FUcRkoLSA4",
        "colab_type": "code",
        "outputId": "ec9c5619-c8d6-4faf-d0e7-ae83371d8093",
        "colab": {
          "base_uri": "https://localhost:8080/",
          "height": 51
        }
      },
      "source": [
        " print(\"before dropping duplicates\", final_data.shape)\n",
        " final_data.drop_duplicates(subset=list(final_data.columns), keep='first', inplace=True)    # removing duplicates if present\n",
        " print(\"after dropping duplicates\", final_data.shape)"
      ],
      "execution_count": 0,
      "outputs": [
        {
          "output_type": "stream",
          "text": [
            "before dropping duplicates (20, 4)\n",
            "after dropping duplicates (20, 4)\n"
          ],
          "name": "stdout"
        }
      ]
    },
    {
      "cell_type": "code",
      "metadata": {
        "id": "O0E3SvX1LSNY",
        "colab_type": "code",
        "colab": {}
      },
      "source": [
        "# There is no change in size of dataset before and after removal of duplicates, Therefore there was no duplicate row in our datset"
      ],
      "execution_count": 0,
      "outputs": []
    },
    {
      "cell_type": "code",
      "metadata": {
        "id": "YiZhXIJFLSWD",
        "colab_type": "code",
        "outputId": "78891409-c7fa-4df7-ed66-e263b2027fe6",
        "colab": {
          "base_uri": "https://localhost:8080/",
          "height": 102
        }
      },
      "source": [
        "# lets check for any null values\n",
        "final_data.isnull().sum()"
      ],
      "execution_count": 0,
      "outputs": [
        {
          "output_type": "execute_result",
          "data": {
            "text/plain": [
              "author          0\n",
              "body            0\n",
              "publish_date    0\n",
              "title           0\n",
              "dtype: int64"
            ]
          },
          "metadata": {
            "tags": []
          },
          "execution_count": 29
        }
      ]
    },
    {
      "cell_type": "code",
      "metadata": {
        "id": "sw8zp0CbLR1m",
        "colab_type": "code",
        "colab": {}
      },
      "source": [
        "# we have no null values in our dataset, which is good sign for processing of data"
      ],
      "execution_count": 0,
      "outputs": []
    },
    {
      "cell_type": "code",
      "metadata": {
        "id": "xtb_acx-TaL7",
        "colab_type": "code",
        "colab": {}
      },
      "source": [
        " final_data.sort_values(by='publish_date', axis=0, inplace=True) # Lets arrange the data by publish data by datyewise"
      ],
      "execution_count": 0,
      "outputs": []
    },
    {
      "cell_type": "code",
      "metadata": {
        "id": "zLjoLVbvS_G3",
        "colab_type": "code",
        "outputId": "0c478ea7-003a-41ce-f741-17a87feddd93",
        "colab": {
          "base_uri": "https://localhost:8080/",
          "height": 289
        }
      },
      "source": [
        "final_data.head() # final cleaned and sorted data"
      ],
      "execution_count": 0,
      "outputs": [
        {
          "output_type": "execute_result",
          "data": {
            "text/html": [
              "<div>\n",
              "<style scoped>\n",
              "    .dataframe tbody tr th:only-of-type {\n",
              "        vertical-align: middle;\n",
              "    }\n",
              "\n",
              "    .dataframe tbody tr th {\n",
              "        vertical-align: top;\n",
              "    }\n",
              "\n",
              "    .dataframe thead th {\n",
              "        text-align: right;\n",
              "    }\n",
              "</style>\n",
              "<table border=\"1\" class=\"dataframe\">\n",
              "  <thead>\n",
              "    <tr style=\"text-align: right;\">\n",
              "      <th></th>\n",
              "      <th>author</th>\n",
              "      <th>body</th>\n",
              "      <th>publish_date</th>\n",
              "      <th>title</th>\n",
              "    </tr>\n",
              "  </thead>\n",
              "  <tbody>\n",
              "    <tr>\n",
              "      <th>16</th>\n",
              "      <td>Natasha Mascarenhas</td>\n",
              "      <td>Brex wants to help startups get the money that...</td>\n",
              "      <td>2020-03-24 13:03:04+00:00</td>\n",
              "      <td>Brex acquires three companies to build out its...</td>\n",
              "    </tr>\n",
              "    <tr>\n",
              "      <th>14</th>\n",
              "      <td>Ingrid Lunden</td>\n",
              "      <td>One of the big challenges (among many) with th...</td>\n",
              "      <td>2020-03-25 16:12:59+00:00</td>\n",
              "      <td>Self-reporting app for Covid-19 symptoms for U...</td>\n",
              "    </tr>\n",
              "    <tr>\n",
              "      <th>1</th>\n",
              "      <td>Beth Skwarecki on Vitals, shared by Beth Skwar...</td>\n",
              "      <td>If you can’t look away from the climbing case ...</td>\n",
              "      <td>2020-03-25 19:45:00+00:00</td>\n",
              "      <td>Here's a New COVID-19 Data Site to Obsessively...</td>\n",
              "    </tr>\n",
              "    <tr>\n",
              "      <th>2</th>\n",
              "      <td>Devin Coldewey</td>\n",
              "      <td>To someone with a hammer, every problem looks ...</td>\n",
              "      <td>2020-03-26 17:46:00+00:00</td>\n",
              "      <td>AI and big data won’t work miracles in the fig...</td>\n",
              "    </tr>\n",
              "    <tr>\n",
              "      <th>12</th>\n",
              "      <td>Jacob Kastrenakes</td>\n",
              "      <td>Huawei reported its 2019 earnings, saying grow...</td>\n",
              "      <td>2020-03-31 08:05:00+00:00</td>\n",
              "      <td>Huawei says US trade ban is a ‘big difficulty’...</td>\n",
              "    </tr>\n",
              "  </tbody>\n",
              "</table>\n",
              "</div>"
            ],
            "text/plain": [
              "                                               author  ...                                              title\n",
              "16                                Natasha Mascarenhas  ...  Brex acquires three companies to build out its...\n",
              "14                                      Ingrid Lunden  ...  Self-reporting app for Covid-19 symptoms for U...\n",
              "1   Beth Skwarecki on Vitals, shared by Beth Skwar...  ...  Here's a New COVID-19 Data Site to Obsessively...\n",
              "2                                      Devin Coldewey  ...  AI and big data won’t work miracles in the fig...\n",
              "12                                  Jacob Kastrenakes  ...  Huawei says US trade ban is a ‘big difficulty’...\n",
              "\n",
              "[5 rows x 4 columns]"
            ]
          },
          "metadata": {
            "tags": []
          },
          "execution_count": 32
        }
      ]
    },
    {
      "cell_type": "code",
      "metadata": {
        "id": "hblhp2J2LRTJ",
        "colab_type": "code",
        "colab": {}
      },
      "source": [
        "# Lets do text processing and topic Modeliing\n",
        "# Topic Modeling in NLP seeks to find hidden semantic structure in documents.\n",
        "# Latent Dirichlet Allocation (LDA) Topic modelling states that each document in a corpus is a combination of a fixed number of topics. A topic has a probability of generating various words, where the words are all the observed words in the corpus."
      ],
      "execution_count": 0,
      "outputs": []
    },
    {
      "cell_type": "code",
      "metadata": {
        "id": "-KiEigjJL9IZ",
        "colab_type": "code",
        "colab": {}
      },
      "source": [
        ""
      ],
      "execution_count": 0,
      "outputs": []
    },
    {
      "cell_type": "code",
      "metadata": {
        "id": "WpI9oCsxLRCY",
        "colab_type": "code",
        "colab": {}
      },
      "source": [
        "def article_to_words(articles):     # tokenizes articles & yeilds list of words for each article\n",
        "    for article in articles:\n",
        "        yield(gensim.utils.simple_preprocess(article, deacc=True))  # deacc=True removes punctuations"
      ],
      "execution_count": 0,
      "outputs": []
    },
    {
      "cell_type": "code",
      "metadata": {
        "id": "qffPTNG5LQ3x",
        "colab_type": "code",
        "colab": {}
      },
      "source": [
        "def remove_stopwords(texts):  # function will remove english stopwords\n",
        "    stop_words = stopwords.words('english')\n",
        "    stop_words.extend(['from', 'subject', 're', 'edu', 'use', 'say', 'also', 'would', 'may'])\n",
        "    return [[word for word in simple_preprocess(str(doc)) if word not in stop_words] for doc in texts]"
      ],
      "execution_count": 0,
      "outputs": []
    },
    {
      "cell_type": "code",
      "metadata": {
        "id": "sooDxwaFLQe9",
        "colab_type": "code",
        "colab": {}
      },
      "source": [
        "def make_bigrams(texts):\n",
        "    '''Applies the bigram model(defined below) on each document'''\n",
        "    return [bigram_mod[doc] for doc in texts]"
      ],
      "execution_count": 0,
      "outputs": []
    },
    {
      "cell_type": "code",
      "metadata": {
        "id": "wucY6lWILQbd",
        "colab_type": "code",
        "colab": {}
      },
      "source": [
        "nlp = spacy.load('en', disable=['parser', 'ner'])\n",
        "def lemmatization(texts, allowed_postags=['NOUN', 'ADJ', 'VERB', 'ADV']):  \n",
        "# lemmatization does morphological analysis of the words & brings context to the words\n",
        "    texts_out = []\n",
        "    for sent in texts:\n",
        "        doc = nlp(\" \".join(sent))\n",
        "        texts_out.append([token.lemma_ for token in doc if token.pos_ in allowed_postags])\n",
        "    return texts_out"
      ],
      "execution_count": 0,
      "outputs": []
    },
    {
      "cell_type": "code",
      "metadata": {
        "id": "Bu6LiosxW6NZ",
        "colab_type": "code",
        "colab": {}
      },
      "source": [
        "# \n",
        "#def bigrams(words, bi_min=15, tri_min=10):\n",
        "    #bigram = gensim.models.Phrases(words, min_count = bi_min)\n",
        "    #bigram_mod = gensim.models.phrases.Phraser(bigram)\n",
        "    #return bigram_mod"
      ],
      "execution_count": 0,
      "outputs": []
    },
    {
      "cell_type": "code",
      "metadata": {
        "id": "V10YqijRQpSo",
        "colab_type": "code",
        "colab": {}
      },
      "source": [
        "# LDA preprocessing:\n",
        "# 1. list of all words present in articles\n",
        "# 2.  Bigrams(When we are dealing with text classification, sometimes we need to do certain kind of natural language processing and hence sometimes require to form bigrams of words for processing.)\n",
        "def preprocess(df):\n",
        "    '''\n",
        "    Input: clean dataframe\n",
        "    Output: list of articles after preprocess, bigram model\n",
        "    '''\n",
        "    \n",
        "    articles = list(df['body'])                                          # Corpus of content of all articles\n",
        "    data_words = list(article_to_words(articles))                        # Each article is a list of all it's words after \"simple_preprocess\"\n",
        "    \n",
        "    common_terms = [\"of\", \"with\", \"without\", \"and\", \"or\", \"the\", \"a\"]\n",
        "    bigram = gensim.models.Phrases(data_words, \n",
        "                                   min_count=4, \n",
        "                                   threshold=30, \n",
        "                                   common_terms=common_terms)            \n",
        "    # Gensim’s Phrases class allows you to group related phrases into one token for LDA.\n",
        "    bigram_mod = gensim.models.phrases.Phraser(bigram)                   \n",
        "    \n",
        "    return data_words, bigram_mod"
      ],
      "execution_count": 0,
      "outputs": []
    },
    {
      "cell_type": "code",
      "metadata": {
        "id": "jkQwB2AcQpNU",
        "colab_type": "code",
        "colab": {}
      },
      "source": [
        "data_words, bigram_mod = preprocess(final_data)\n",
        "\n",
        "data_words_lemmatized = lemmatization(data_words)\n",
        "data_words_nostops = remove_stopwords(data_words_lemmatized)\n",
        "data_final = make_bigrams(data_words_nostops)\n",
        "\n",
        "# Once you have that list of lists of unigrams and bigrams, you can pass it to gensim’s Dictionary class. This will output the word frequency count of each word for each article\n",
        "word_dict = corpora.Dictionary(data_final)\n",
        "# Bag of words (Document Term Frequency)\n",
        "# list of tuples for each doc- (id,frequency) of word in that document\n",
        "corpus = [word_dict.doc2bow(text) for text in data_final]  \n",
        "# “The function doc2bow() simply counts the number of occurrences of each distinct word, converts the word to its integer word id and returns the result as a sparse vector"
      ],
      "execution_count": 0,
      "outputs": []
    },
    {
      "cell_type": "code",
      "metadata": {
        "id": "R-27C7TNRYoQ",
        "colab_type": "code",
        "outputId": "9fb03f8b-06e4-41cc-d83e-889db725d6d0",
        "colab": {
          "base_uri": "https://localhost:8080/",
          "height": 1000
        }
      },
      "source": [
        "corpus"
      ],
      "execution_count": 0,
      "outputs": [
        {
          "output_type": "execute_result",
          "data": {
            "text/plain": [
              "[[(0, 1),\n",
              "  (1, 1),\n",
              "  (2, 1),\n",
              "  (3, 2),\n",
              "  (4, 1),\n",
              "  (5, 2),\n",
              "  (6, 1),\n",
              "  (7, 1),\n",
              "  (8, 1),\n",
              "  (9, 1),\n",
              "  (10, 1),\n",
              "  (11, 1),\n",
              "  (12, 1),\n",
              "  (13, 1),\n",
              "  (14, 1),\n",
              "  (15, 1),\n",
              "  (16, 1)],\n",
              " [(2, 1),\n",
              "  (11, 1),\n",
              "  (17, 1),\n",
              "  (18, 1),\n",
              "  (19, 1),\n",
              "  (20, 1),\n",
              "  (21, 1),\n",
              "  (22, 1),\n",
              "  (23, 1),\n",
              "  (24, 1),\n",
              "  (25, 1),\n",
              "  (26, 2),\n",
              "  (27, 1),\n",
              "  (28, 1),\n",
              "  (29, 1),\n",
              "  (30, 1),\n",
              "  (31, 1),\n",
              "  (32, 1),\n",
              "  (33, 1)],\n",
              " [(34, 1),\n",
              "  (35, 1),\n",
              "  (36, 1),\n",
              "  (37, 1),\n",
              "  (38, 1),\n",
              "  (39, 1),\n",
              "  (40, 1),\n",
              "  (41, 1),\n",
              "  (42, 1),\n",
              "  (43, 1),\n",
              "  (44, 1),\n",
              "  (45, 1),\n",
              "  (46, 1),\n",
              "  (47, 1),\n",
              "  (48, 2),\n",
              "  (49, 1),\n",
              "  (50, 1),\n",
              "  (51, 1),\n",
              "  (52, 1),\n",
              "  (53, 1),\n",
              "  (54, 1)],\n",
              " [(27, 1),\n",
              "  (48, 1),\n",
              "  (55, 1),\n",
              "  (56, 1),\n",
              "  (57, 1),\n",
              "  (58, 1),\n",
              "  (59, 1),\n",
              "  (60, 1),\n",
              "  (61, 1),\n",
              "  (62, 2),\n",
              "  (63, 1),\n",
              "  (64, 1),\n",
              "  (65, 2),\n",
              "  (66, 2),\n",
              "  (67, 1),\n",
              "  (68, 1),\n",
              "  (69, 1),\n",
              "  (70, 1),\n",
              "  (71, 1)],\n",
              " [(72, 1),\n",
              "  (73, 1),\n",
              "  (74, 1),\n",
              "  (75, 1),\n",
              "  (76, 1),\n",
              "  (77, 1),\n",
              "  (78, 1),\n",
              "  (79, 1),\n",
              "  (80, 1),\n",
              "  (81, 1),\n",
              "  (82, 1),\n",
              "  (83, 1)],\n",
              " [(10, 1),\n",
              "  (19, 1),\n",
              "  (84, 1),\n",
              "  (85, 1),\n",
              "  (86, 1),\n",
              "  (87, 1),\n",
              "  (88, 1),\n",
              "  (89, 1),\n",
              "  (90, 1),\n",
              "  (91, 1),\n",
              "  (92, 1),\n",
              "  (93, 1),\n",
              "  (94, 1),\n",
              "  (95, 1),\n",
              "  (96, 1)],\n",
              " [(5, 1),\n",
              "  (57, 1),\n",
              "  (97, 1),\n",
              "  (98, 1),\n",
              "  (99, 1),\n",
              "  (100, 1),\n",
              "  (101, 1),\n",
              "  (102, 1),\n",
              "  (103, 1),\n",
              "  (104, 1),\n",
              "  (105, 1),\n",
              "  (106, 1),\n",
              "  (107, 1),\n",
              "  (108, 1),\n",
              "  (109, 2),\n",
              "  (110, 1),\n",
              "  (111, 1),\n",
              "  (112, 1)],\n",
              " [(0, 1),\n",
              "  (2, 1),\n",
              "  (35, 1),\n",
              "  (66, 1),\n",
              "  (80, 1),\n",
              "  (113, 1),\n",
              "  (114, 1),\n",
              "  (115, 1),\n",
              "  (116, 1),\n",
              "  (117, 1),\n",
              "  (118, 1),\n",
              "  (119, 1),\n",
              "  (120, 1),\n",
              "  (121, 1),\n",
              "  (122, 1),\n",
              "  (123, 1),\n",
              "  (124, 1)],\n",
              " [(2, 1),\n",
              "  (3, 1),\n",
              "  (10, 1),\n",
              "  (12, 1),\n",
              "  (28, 1),\n",
              "  (29, 1),\n",
              "  (57, 1),\n",
              "  (61, 1),\n",
              "  (70, 1),\n",
              "  (125, 1),\n",
              "  (126, 1),\n",
              "  (127, 1),\n",
              "  (128, 1),\n",
              "  (129, 1),\n",
              "  (130, 1),\n",
              "  (131, 2),\n",
              "  (132, 1),\n",
              "  (133, 1),\n",
              "  (134, 1),\n",
              "  (135, 1),\n",
              "  (136, 1),\n",
              "  (137, 1),\n",
              "  (138, 1),\n",
              "  (139, 1)],\n",
              " [(3, 1),\n",
              "  (57, 3),\n",
              "  (99, 1),\n",
              "  (139, 1),\n",
              "  (140, 1),\n",
              "  (141, 1),\n",
              "  (142, 1),\n",
              "  (143, 1),\n",
              "  (144, 1),\n",
              "  (145, 2),\n",
              "  (146, 1),\n",
              "  (147, 1),\n",
              "  (148, 1),\n",
              "  (149, 1),\n",
              "  (150, 1),\n",
              "  (151, 1),\n",
              "  (152, 1)],\n",
              " [(61, 1), (134, 1), (153, 1), (154, 1), (155, 1), (156, 1)],\n",
              " [(115, 1),\n",
              "  (132, 1),\n",
              "  (157, 1),\n",
              "  (158, 1),\n",
              "  (159, 1),\n",
              "  (160, 1),\n",
              "  (161, 1),\n",
              "  (162, 1),\n",
              "  (163, 1),\n",
              "  (164, 1),\n",
              "  (165, 1),\n",
              "  (166, 1),\n",
              "  (167, 1),\n",
              "  (168, 1),\n",
              "  (169, 1),\n",
              "  (170, 1),\n",
              "  (171, 1),\n",
              "  (172, 1),\n",
              "  (173, 1),\n",
              "  (174, 1),\n",
              "  (175, 1)],\n",
              " [(2, 3),\n",
              "  (21, 1),\n",
              "  (26, 1),\n",
              "  (57, 4),\n",
              "  (68, 1),\n",
              "  (132, 1),\n",
              "  (176, 1),\n",
              "  (177, 1),\n",
              "  (178, 1),\n",
              "  (179, 1),\n",
              "  (180, 1),\n",
              "  (181, 1),\n",
              "  (182, 1),\n",
              "  (183, 1),\n",
              "  (184, 1),\n",
              "  (185, 1),\n",
              "  (186, 1)],\n",
              " [(2, 1),\n",
              "  (31, 1),\n",
              "  (52, 2),\n",
              "  (57, 1),\n",
              "  (127, 1),\n",
              "  (142, 1),\n",
              "  (187, 1),\n",
              "  (188, 2),\n",
              "  (189, 1),\n",
              "  (190, 1),\n",
              "  (191, 1),\n",
              "  (192, 1),\n",
              "  (193, 1),\n",
              "  (194, 1),\n",
              "  (195, 1),\n",
              "  (196, 1),\n",
              "  (197, 1),\n",
              "  (198, 1),\n",
              "  (199, 1),\n",
              "  (200, 1),\n",
              "  (201, 1)],\n",
              " [(33, 1),\n",
              "  (50, 1),\n",
              "  (59, 1),\n",
              "  (183, 1),\n",
              "  (202, 1),\n",
              "  (203, 1),\n",
              "  (204, 1),\n",
              "  (205, 1),\n",
              "  (206, 1),\n",
              "  (207, 1),\n",
              "  (208, 1),\n",
              "  (209, 1),\n",
              "  (210, 1),\n",
              "  (211, 1),\n",
              "  (212, 1),\n",
              "  (213, 1)],\n",
              " [(179, 1),\n",
              "  (214, 1),\n",
              "  (215, 1),\n",
              "  (216, 1),\n",
              "  (217, 1),\n",
              "  (218, 1),\n",
              "  (219, 1),\n",
              "  (220, 1),\n",
              "  (221, 1),\n",
              "  (222, 1)],\n",
              " [(5, 1),\n",
              "  (11, 1),\n",
              "  (33, 1),\n",
              "  (99, 1),\n",
              "  (183, 1),\n",
              "  (212, 1),\n",
              "  (223, 1),\n",
              "  (224, 1),\n",
              "  (225, 1),\n",
              "  (226, 1),\n",
              "  (227, 1),\n",
              "  (228, 1),\n",
              "  (229, 1),\n",
              "  (230, 1),\n",
              "  (231, 1),\n",
              "  (232, 1),\n",
              "  (233, 1),\n",
              "  (234, 1),\n",
              "  (235, 1),\n",
              "  (236, 1),\n",
              "  (237, 1)],\n",
              " [(57, 1),\n",
              "  (159, 1),\n",
              "  (238, 1),\n",
              "  (239, 1),\n",
              "  (240, 1),\n",
              "  (241, 1),\n",
              "  (242, 1),\n",
              "  (243, 1),\n",
              "  (244, 1),\n",
              "  (245, 1),\n",
              "  (246, 1),\n",
              "  (247, 1),\n",
              "  (248, 1)],\n",
              " [(50, 1),\n",
              "  (95, 1),\n",
              "  (249, 1),\n",
              "  (250, 1),\n",
              "  (251, 1),\n",
              "  (252, 1),\n",
              "  (253, 1),\n",
              "  (254, 1),\n",
              "  (255, 1),\n",
              "  (256, 1),\n",
              "  (257, 1),\n",
              "  (258, 1)],\n",
              " [(48, 1),\n",
              "  (57, 1),\n",
              "  (259, 1),\n",
              "  (260, 1),\n",
              "  (261, 1),\n",
              "  (262, 1),\n",
              "  (263, 1),\n",
              "  (264, 1),\n",
              "  (265, 1),\n",
              "  (266, 1),\n",
              "  (267, 1),\n",
              "  (268, 1),\n",
              "  (269, 1),\n",
              "  (270, 1)]]"
            ]
          },
          "metadata": {
            "tags": []
          },
          "execution_count": 67
        }
      ]
    },
    {
      "cell_type": "code",
      "metadata": {
        "id": "Qap5R0W-Whqo",
        "colab_type": "code",
        "colab": {}
      },
      "source": [
        "# LDA Modelling"
      ],
      "execution_count": 0,
      "outputs": []
    },
    {
      "cell_type": "code",
      "metadata": {
        "id": "5QVLgYRIWh2g",
        "colab_type": "code",
        "outputId": "0418c606-2a85-462d-b617-61e820aea5ff",
        "colab": {
          "base_uri": "https://localhost:8080/",
          "height": 34
        }
      },
      "source": [
        "import gensim\n",
        "import logging # This allows for seeing if the model converges. A log file is created.\n",
        "logging.basicConfig(filename='lda_model.log', format='%(asctime)s : %(levelname)s : %(message)s', level=logging.INFO)\n",
        "\n",
        "with warnings.catch_warnings():\n",
        "    warnings.simplefilter('ignore')\n",
        "    start=5; limit=30; step=5\n",
        "    for num_topics in range(start, limit, step):\n",
        "           \n",
        "           lda_train = gensim.models.ldamulticore.LdaMulticore(\n",
        "                           corpus=corpus,\n",
        "                           num_topics=num_topics,\n",
        "                           id2word=id2word,\n",
        "                           chunksize=100,\n",
        "                           workers=7, # Num. Processing Cores - 1\n",
        "                           passes=50,\n",
        "                           eval_every = 1,\n",
        "                           per_word_topics=True)\n",
        "    \n",
        "    print(num_topics)\n",
        "    \n",
        "    lda_train.save('lda_train.model')\n"
      ],
      "execution_count": 0,
      "outputs": [
        {
          "output_type": "stream",
          "text": [
            "25\n"
          ],
          "name": "stdout"
        }
      ]
    },
    {
      "cell_type": "code",
      "metadata": {
        "id": "MONQfGKMQ68a",
        "colab_type": "code",
        "colab": {}
      },
      "source": [
        "# Lets create coherence model too to find coherence score for articles"
      ],
      "execution_count": 0,
      "outputs": []
    },
    {
      "cell_type": "code",
      "metadata": {
        "id": "V6KLj_-GUw42",
        "colab_type": "code",
        "outputId": "15a8b65d-e06a-4a6f-b8d8-9ac7bf6d869f",
        "colab": {
          "base_uri": "https://localhost:8080/",
          "height": 102
        }
      },
      "source": [
        "def compute_coherence_values(dictionary, corpus, texts, limit, start=2, step=3):\n",
        "    \"\"\"\n",
        "    Compute c_v coherence for various number of topics\n",
        "\n",
        "    Parameters:\n",
        "    ----------\n",
        "    dictionary : Gensim dictionary\n",
        "    corpus : Gensim corpus\n",
        "    texts : List of input texts\n",
        "    limit : Max num of topics\n",
        "\n",
        "    Returns:\n",
        "    -------\n",
        "    model_list : List of LDA topic models`\n",
        "    coherence_values : Coherence values corresponding to the LDA model with respective number of topics\n",
        "    \"\"\"\n",
        "\n",
        "    import gensim\n",
        "    import logging # This allows for seeing if the model converges. A log file is created.\n",
        "    logging.basicConfig(filename='lda_model.log', format='%(asctime)s : %(levelname)s : %(message)s', level=logging.INFO)\n",
        "\n",
        "    with warnings.catch_warnings():\n",
        "        warnings.simplefilter('ignore')\n",
        "\n",
        "\n",
        "    coherence_values = []\n",
        "    model_list = []\n",
        "    for num_topics in range(start, limit, step):\n",
        "        model = gensim.models.LdaMulticore(corpus=corpus,\n",
        "                                           id2word=word_dict,\n",
        "                                           num_topics=num_topics,\n",
        "                                           random_state=100,\n",
        "                                           passes=20,\n",
        "                                           per_word_topics=True,\n",
        "                                           workers=25)\n",
        "        model_list.append(model)\n",
        "        coherencemodel = gensim.models.CoherenceModel(model=model, texts=texts, dictionary=dictionary, coherence='c_v')\n",
        "        coherence_values.append(coherencemodel.get_coherence())\n",
        "        print(num_topics)\n",
        "\n",
        "    return model_list, coherence_values\n",
        "    model.save('lda_train.model')\n",
        "\n",
        "start=5; limit=30; step=5\n",
        "model_list, coherence_values = compute_coherence_values(dictionary=word_dict, corpus=corpus, texts=data_final, start=start, limit=limit, step=step)\n"
      ],
      "execution_count": 0,
      "outputs": [
        {
          "output_type": "stream",
          "text": [
            "5\n",
            "10\n",
            "15\n",
            "20\n",
            "25\n"
          ],
          "name": "stdout"
        }
      ]
    },
    {
      "cell_type": "code",
      "metadata": {
        "id": "XWlYtf5DQ8yF",
        "colab_type": "code",
        "outputId": "3b8a7608-f595-4a76-bb7e-775b345c9232",
        "colab": {
          "base_uri": "https://localhost:8080/",
          "height": 279
        }
      },
      "source": [
        "import matplotlib.pyplot as plt\n",
        "x = range(start, limit, step)\n",
        "plt.plot(x, coherence_values)\n",
        "plt.xlabel(\"Num Topics\")\n",
        "plt.ylabel(\"Coherence score\")\n",
        "plt.legend((\"coherence_values\"), loc='best')\n",
        "plt.show()"
      ],
      "execution_count": 0,
      "outputs": [
        {
          "output_type": "display_data",
          "data": {
            "image/png": "[encoded data removed]",
            "text/plain": [
              "<Figure size 432x288 with 1 Axes>"
            ]
          },
          "metadata": {
            "tags": [],
            "needs_background": "light"
          }
        }
      ]
    },
    {
      "cell_type": "code",
      "metadata": {
        "id": "pYfR-A-vQ8uv",
        "colab_type": "code",
        "colab": {}
      },
      "source": [
        "# This is good sign of having great cohenrence score (i.e. 0.65 for all 20 topics)\n",
        "# Coherence measures score a single topic by measuring the degree of semantic similarity between high scoring words in the topic. These measurements help distinguish between topics that are semantically interpretable topics and topics that are artifacts of statistical inference."
      ],
      "execution_count": 0,
      "outputs": []
    },
    {
      "cell_type": "code",
      "metadata": {
        "id": "n51SSf4oQ8qe",
        "colab_type": "code",
        "colab": {}
      },
      "source": [
        "# we can view the words making up each topic as below:\n",
        "# we can see 10 of the 20 topics and the 15 top words for each."
      ],
      "execution_count": 0,
      "outputs": []
    },
    {
      "cell_type": "code",
      "metadata": {
        "id": "0CjTfKTRWiBs",
        "colab_type": "code",
        "outputId": "46525778-00e8-464b-dbb2-a94f75b42983",
        "colab": {
          "base_uri": "https://localhost:8080/",
          "height": 377
        }
      },
      "source": [
        "lda_train.print_topics(19,num_words=15)[:10]"
      ],
      "execution_count": 0,
      "outputs": [
        {
          "output_type": "execute_result",
          "data": {
            "text/plain": [
              "[(24,\n",
              "  '0.090*\"linear\" + 0.060*\"first\" + 0.031*\"reasons\" + 0.031*\"app\" + 0.031*\"apple\" + 0.031*\"come\" + 0.031*\"continue\" + 0.031*\"dark\" + 0.031*\"fans\" + 0.031*\"going\" + 0.031*\"hyper\" + 0.031*\"july\" + 0.031*\"local\" + 0.031*\"obvious\" + 0.031*\"problems\"'),\n",
              " (15,\n",
              "  '0.030*\"harvesting\" + 0.030*\"lend\" + 0.030*\"amid\" + 0.030*\"air\" + 0.030*\"add\" + 0.030*\"technique\" + 0.030*\"tame\" + 0.030*\"ill\" + 0.030*\"storage\" + 0.030*\"next\" + 0.030*\"innovative\" + 0.030*\"china\" + 0.030*\"reported\" + 0.030*\"put\" + 0.030*\"gold\"'),\n",
              " (20,\n",
              "  '0.003*\"innovative\" + 0.003*\"gold\" + 0.003*\"amid\" + 0.003*\"air\" + 0.003*\"add\" + 0.003*\"technique\" + 0.003*\"tame\" + 0.003*\"storage\" + 0.003*\"next\" + 0.003*\"improved\" + 0.003*\"harvesting\" + 0.003*\"analysis\" + 0.003*\"da\" + 0.003*\"web\" + 0.003*\"abundance\"'),\n",
              " (8,\n",
              "  '0.003*\"innovative\" + 0.003*\"gold\" + 0.003*\"amid\" + 0.003*\"air\" + 0.003*\"add\" + 0.003*\"technique\" + 0.003*\"tame\" + 0.003*\"storage\" + 0.003*\"next\" + 0.003*\"improved\" + 0.003*\"harvesting\" + 0.003*\"analysis\" + 0.003*\"da\" + 0.003*\"web\" + 0.003*\"abundance\"'),\n",
              " (0,\n",
              "  '0.045*\"small\" + 0.045*\"read\" + 0.045*\"little\" + 0.023*\"sky\" + 0.023*\"leaning\" + 0.023*\"customers\" + 0.023*\"especially\" + 0.023*\"days\" + 0.023*\"giving\" + 0.023*\"ho\" + 0.023*\"able\" + 0.023*\"weather\" + 0.023*\"demand\" + 0.023*\"sale\" + 0.023*\"telecom\"'),\n",
              " (2,\n",
              "  '0.031*\"constantly\" + 0.031*\"coronavirus\" + 0.016*\"linear\" + 0.016*\"us\" + 0.016*\"trade\" + 0.016*\"software\" + 0.016*\"server\" + 0.016*\"saying\" + 0.016*\"sales\" + 0.016*\"reported\" + 0.016*\"phone\" + 0.016*\"sector\" + 0.016*\"processors\" + 0.016*\"hammering\" + 0.016*\"hammer\"'),\n",
              " (10,\n",
              "  '0.055*\"curve\" + 0.055*\"well\" + 0.028*\"need\" + 0.028*\"solution\" + 0.028*\"falling\" + 0.028*\"exposed\" + 0.028*\"due\" + 0.028*\"digital\" + 0.028*\"cloud\" + 0.028*\"aws\" + 0.028*\"amazon\" + 0.028*\"accidentally\" + 0.028*\"toward\" + 0.028*\"power\" + 0.028*\"continue\"'),\n",
              " (16,\n",
              "  '0.113*\"linear\" + 0.085*\"big\" + 0.029*\"gdpr\" + 0.029*\"put\" + 0.029*\"wants\" + 0.029*\"organiz\" + 0.029*\"policies\" + 0.029*\"privacy\" + 0.029*\"protection\" + 0.029*\"regulations\" + 0.029*\"significant\" + 0.029*\"spotlight\" + 0.029*\"mobile\" + 0.029*\"data\" + 0.029*\"coronavirus\"'),\n",
              " (14,\n",
              "  '0.036*\"total\" + 0.036*\"hurting\" + 0.036*\"huawei\" + 0.036*\"hampered\" + 0.036*\"growth\" + 0.036*\"google\" + 0.036*\"earnings\" + 0.036*\"ban\" + 0.036*\"work\" + 0.036*\"tech\" + 0.036*\"tackle\" + 0.036*\"someone\" + 0.036*\"buy\" + 0.036*\"intel\" + 0.036*\"landria\"'),\n",
              " (11,\n",
              "  '0.039*\"quality\" + 0.039*\"seeing\" + 0.039*\"improved\" + 0.039*\"italy\" + 0.039*\"linear\" + 0.039*\"northeast\" + 0.039*\"ongoing\" + 0.039*\"parts\" + 0.039*\"pollution\" + 0.039*\"preliminary\" + 0.039*\"finding\" + 0.039*\"list\" + 0.039*\"regions\" + 0.001*\"storage\" + 0.001*\"technique\"')]"
            ]
          },
          "metadata": {
            "tags": []
          },
          "execution_count": 227
        }
      ]
    },
    {
      "cell_type": "code",
      "metadata": {
        "id": "0JrxC3qKWiNi",
        "colab_type": "code",
        "colab": {}
      },
      "source": [
        "# Converting Topics to Feature Vectors"
      ],
      "execution_count": 0,
      "outputs": []
    },
    {
      "cell_type": "code",
      "metadata": {
        "id": "NIInPdfsWiIM",
        "colab_type": "code",
        "outputId": "78eee486-eb47-4899-83e8-73e76136d54c",
        "colab": {
          "base_uri": "https://localhost:8080/",
          "height": 1000
        }
      },
      "source": [
        "train_vecs = []\n",
        "for i in range(len(final_data)-1):\n",
        "    top_topics = lda_train.get_document_topics(corpus[i], minimum_probability=0.0)\n",
        "    topic_vec = [top_topics[i][1] for i in range(19)]\n",
        "    topic_vec.extend([final_data.iloc[i].value_counts]) # counts of  for restaurant\n",
        "    topic_vec.extend([len(final_data.iloc[i])]) # length review\n",
        "    train_vecs.append(topic_vec)\n",
        "print(train_vecs)\n",
        "print(len(train_vecs))"
      ],
      "execution_count": 0,
      "outputs": [
        {
          "output_type": "stream",
          "text": [
            "[[0.0019999999, 0.0019999999, 0.0019999999, 0.0019999999, 0.952, 0.0019999999, 0.0019999999, 0.0019999999, 0.0019999999, 0.0019999999, 0.0019999999, 0.0019999999, 0.0019999999, 0.0019999999, 0.0019999999, 0.0019999999, 0.0019999999, 0.0019999999, 0.0019999999, <bound method IndexOpsMixin.value_counts of author                                        Natasha Mascarenhas\n",
            "body            Brex wants to help startups get the money that...\n",
            "publish_date                            2020-03-24 13:03:04+00:00\n",
            "title           Brex acquires three companies to build out its...\n",
            "Name: 16, dtype: object>, 4], [0.001904762, 0.001904762, 0.95428574, 0.001904762, 0.001904762, 0.001904762, 0.001904762, 0.001904762, 0.001904762, 0.001904762, 0.001904762, 0.001904762, 0.001904762, 0.001904762, 0.001904762, 0.001904762, 0.001904762, 0.001904762, 0.001904762, <bound method IndexOpsMixin.value_counts of author                                              Ingrid Lunden\n",
            "body            One of the big challenges (among many) with th...\n",
            "publish_date                            2020-03-25 16:12:59+00:00\n",
            "title           Self-reporting app for Covid-19 symptoms for U...\n",
            "Name: 14, dtype: object>, 4], [0.0017391306, 0.0017391306, 0.0017391306, 0.0017391306, 0.0017391306, 0.0017391306, 0.0017391306, 0.0017391306, 0.0017391306, 0.0017391306, 0.0017391306, 0.0017391306, 0.0017391306, 0.0017391306, 0.0017391306, 0.0017391306, 0.0017391306, 0.9582609, 0.0017391306, <bound method IndexOpsMixin.value_counts of author          Beth Skwarecki on Vitals, shared by Beth Skwar...\n",
            "body            If you can’t look away from the climbing case ...\n",
            "publish_date                            2020-03-25 19:45:00+00:00\n",
            "title           Here's a New COVID-19 Data Site to Obsessively...\n",
            "Name: 1, dtype: object>, 4], [0.0017391306, 0.0017391306, 0.0017391306, 0.0017391306, 0.0017391306, 0.0017391306, 0.0017391306, 0.0017391306, 0.0017391306, 0.0017391306, 0.0017391306, 0.0017391306, 0.0017391306, 0.0017391306, 0.0017391306, 0.0017391306, 0.0017391306, 0.0017391306, 0.0017391306, <bound method IndexOpsMixin.value_counts of author                                             Devin Coldewey\n",
            "body            To someone with a hammer, every problem looks ...\n",
            "publish_date                            2020-03-26 17:46:00+00:00\n",
            "title           AI and big data won’t work miracles in the fig...\n",
            "Name: 2, dtype: object>, 4], [0.0030769228, 0.0030769228, 0.92615384, 0.0030769228, 0.0030769228, 0.0030769228, 0.0030769228, 0.0030769228, 0.0030769228, 0.0030769228, 0.0030769228, 0.0030769228, 0.0030769228, 0.0030769228, 0.0030769228, 0.0030769228, 0.0030769228, 0.0030769228, 0.0030769228, <bound method IndexOpsMixin.value_counts of author                                          Jacob Kastrenakes\n",
            "body            Huawei reported its 2019 earnings, saying grow...\n",
            "publish_date                            2020-03-31 08:05:00+00:00\n",
            "title           Huawei says US trade ban is a ‘big difficulty’...\n",
            "Name: 12, dtype: object>, 4], [0.0024999997, 0.0024999997, 0.0024999997, 0.0024999997, 0.0024999997, 0.0024999997, 0.0024999997, 0.0024999997, 0.0024999997, 0.0024999997, 0.0024999997, 0.0024999997, 0.0024999997, 0.0024999997, 0.94, 0.0024999997, 0.0024999997, 0.0024999997, 0.0024999997, <bound method IndexOpsMixin.value_counts of author                                               Sarah Scoles\n",
            "body            A new competition challenges scientists to inn...\n",
            "publish_date                            2020-03-31 14:00:00+00:00\n",
            "title           The Search for the Next Big Idea in Magnetic F...\n",
            "Name: 6, dtype: object>, 4], [0.0019999999, 0.0019999999, 0.952, 0.0019999999, 0.0019999999, 0.0019999999, 0.0019999999, 0.0019999999, 0.0019999999, 0.0019999999, 0.0019999999, 0.0019999999, 0.0019999999, 0.0019999999, 0.0019999999, 0.0019999999, 0.0019999999, 0.0019999999, 0.0019999999, <bound method IndexOpsMixin.value_counts of author                                                      PCMag\n",
            "body            We're all leaning on our mobile data a little ...\n",
            "publish_date                            2020-03-31 16:04:45+00:00\n",
            "title           AT&T to increase mobile hotspot data by 15GB i...\n",
            "Name: 19, dtype: object>, 4], [0.002222222, 0.002222222, 0.002222222, 0.9466667, 0.002222222, 0.002222222, 0.002222222, 0.002222222, 0.002222222, 0.002222222, 0.002222222, 0.002222222, 0.002222222, 0.002222222, 0.002222222, 0.002222222, 0.002222222, 0.002222222, 0.002222222, <bound method IndexOpsMixin.value_counts of author                                               David Murphy\n",
            "body            Dark Sky just announced it has been acquired b...\n",
            "publish_date                            2020-03-31 21:30:00+00:00\n",
            "title           These Weather Apps Are Great Alternatives to t...\n",
            "Name: 7, dtype: object>, 4], [0.96307695, 0.0015384615, 0.0015384615, 0.0015384615, 0.0015384615, 0.0015384615, 0.0015384615, 0.0015384615, 0.0015384615, 0.0015384615, 0.0015384615, 0.0015384615, 0.0015384615, 0.0015384615, 0.0015384615, 0.0015384615, 0.0015384615, 0.0015384615, 0.0015384615, <bound method IndexOpsMixin.value_counts of author                                            Taylor Hatmaker\n",
            "body            As the floor drops out from under many startup...\n",
            "publish_date                            2020-04-01 17:53:24+00:00\n",
            "title           Palantir provides COVID-19 tracking software t...\n",
            "Name: 8, dtype: object>, 4], [0.0019047617, 0.0019047617, 0.0019047617, 0.0019047617, 0.0019047617, 0.0019047617, 0.0019047617, 0.0019047617, 0.0019047617, 0.0019047617, 0.0019047617, 0.0019047617, 0.0019047617, 0.0019047617, 0.0019047617, 0.0019047617, 0.0019047617, 0.0019047617, 0.0019047617, <bound method IndexOpsMixin.value_counts of author                                              Ingrid Lunden\n",
            "body            GDPR and other data protection and privacy reg...\n",
            "publish_date                            2020-04-02 12:00:08+00:00\n",
            "title           Collibra nabs another $112.5M at a $2.3B valua...\n",
            "Name: 0, dtype: object>, 4], [0.8628571, 0.005714286, 0.005714286, 0.005714286, 0.005714286, 0.005714286, 0.005714286, 0.005714286, 0.005714286, 0.005714286, 0.005714286, 0.005714286, 0.005714286, 0.005714286, 0.005714286, 0.005714286, 0.005714286, 0.005714286, 0.005714286, <bound method IndexOpsMixin.value_counts of author                                      Julie Shah, Neel Shah\n",
            "body            We need to direct computing power toward findi...\n",
            "publish_date                            2020-04-06 15:00:00+00:00\n",
            "title                          Fighting Coronavirus with Big Data\n",
            "Name: 9, dtype: object>, 4], [0.0018181816, 0.0018181816, 0.0018181816, 0.0018181816, 0.0018181816, 0.0018181816, 0.0018181816, 0.0018181816, 0.0018181816, 0.0018181816, 0.0018181816, 0.0018181816, 0.0018181816, 0.9563637, 0.0018181816, 0.0018181816, 0.0018181816, 0.0018181816, 0.0018181816, <bound method IndexOpsMixin.value_counts of author                                              Brendan Hesse\n",
            "body            If you use the popular digital wallet app Key ...\n",
            "publish_date                            2020-04-06 20:30:00+00:00\n",
            "title           If You Use the Key Ring App, Update Your Accou...\n",
            "Name: 10, dtype: object>, 4], [0.0017391306, 0.0017391306, 0.0017391306, 0.0017391306, 0.0017391306, 0.0017391306, 0.0017391306, 0.0017391306, 0.0017391306, 0.0017391306, 0.0017391306, 0.0017391306, 0.0017391306, 0.0017391306, 0.0017391306, 0.0017391306, 0.9582609, 0.0017391306, 0.0017391306, <bound method IndexOpsMixin.value_counts of author                                                Mario Barra\n",
            "body            Big data analysis is the next innovative techn...\n",
            "publish_date                            2020-04-08 18:00:10+00:00\n",
            "title                Big Data in the Telecommunications Ecosystem\n",
            "Name: 15, dtype: object>, 4], [0.0016666665, 0.0016666665, 0.0016666665, 0.0016666665, 0.0016666665, 0.0016666665, 0.0016666665, 0.0016666665, 0.0016666665, 0.0016666665, 0.96000004, 0.0016666665, 0.0016666665, 0.0016666665, 0.0016666665, 0.0016666665, 0.0016666665, 0.0016666665, 0.0016666665, <bound method IndexOpsMixin.value_counts of author          Yessenia Funes on Earther, shared by Brian Kah...\n",
            "body            You can add the Northeast to the growing list ...\n",
            "publish_date                            2020-04-13 15:00:00+00:00\n",
            "title           Coronavirus Lockdowns Have Reduced Air Polluti...\n",
            "Name: 13, dtype: object>, 4], [0.002352941, 0.002352941, 0.002352941, 0.002352941, 0.002352941, 0.002352941, 0.002352941, 0.002352941, 0.002352941, 0.002352941, 0.002352941, 0.002352941, 0.002352941, 0.002352941, 0.002352941, 0.002352941, 0.002352941, 0.9435295, 0.002352941, <bound method IndexOpsMixin.value_counts of author                             Brendan Hesse and David Murphy\n",
            "body            There are over 500,000 stolen Zoom logins floa...\n",
            "publish_date                            2020-04-14 18:15:00+00:00\n",
            "title           How to Protect Your Zoom Account From Recent D...\n",
            "Name: 4, dtype: object>, 4], [0.003636364, 0.003636364, 0.003636364, 0.003636364, 0.003636364, 0.003636364, 0.003636364, 0.91272724, 0.003636364, 0.003636364, 0.003636364, 0.003636364, 0.003636364, 0.003636364, 0.003636364, 0.003636364, 0.003636364, 0.003636364, 0.003636364, <bound method IndexOpsMixin.value_counts of author                                          Natalie Wolchover\n",
            "body            If matter and antimatter cancel each other out...\n",
            "publish_date                            2020-04-19 12:00:00+00:00\n",
            "title           An Imbalance Among Tiny Particles Offers a Big...\n",
            "Name: 3, dtype: object>, 4], [0.001818182, 0.001818182, 0.001818182, 0.001818182, 0.001818182, 0.001818182, 0.001818182, 0.001818182, 0.001818182, 0.001818182, 0.001818182, 0.001818182, 0.001818182, 0.001818182, 0.001818182, 0.9563637, 0.001818182, 0.001818182, 0.001818182, <bound method IndexOpsMixin.value_counts of author                                             Rachel England\n",
            "body            Amazon’s cloud data centers have arrived in So...\n",
            "publish_date                            2020-04-22 10:15:34+00:00\n",
            "title           Amazon opens its first cloud data center in Af...\n",
            "Name: 5, dtype: object>, 4], [0.0028571426, 0.0028571426, 0.0028571426, 0.0028571426, 0.0028571426, 0.0028571426, 0.0028571426, 0.0028571426, 0.0028571426, 0.0028571426, 0.0028571426, 0.93142855, 0.0028571426, 0.0028571426, 0.0028571426, 0.0028571426, 0.0028571426, 0.0028571426, 0.0028571426, <bound method IndexOpsMixin.value_counts of author                                              Natasha Lomas\n",
            "body            The European Data Protection Board (EDPB) has ...\n",
            "publish_date                            2020-04-22 13:03:21+00:00\n",
            "title           EU privacy body urges anonymization of locatio...\n",
            "Name: 18, dtype: object>, 4], [0.0030769228, 0.0030769228, 0.0030769228, 0.0030769228, 0.0030769228, 0.0030769228, 0.0030769228, 0.0030769228, 0.0030769228, 0.92615384, 0.0030769228, 0.0030769228, 0.0030769228, 0.0030769228, 0.0030769228, 0.0030769228, 0.0030769228, 0.0030769228, 0.0030769228, <bound method IndexOpsMixin.value_counts of author          George Dvorsky on Earther, shared by Brian Kah...\n",
            "body            Scientists are attributing the 2018 Kilauea er...\n",
            "publish_date                            2020-04-22 15:00:00+00:00\n",
            "title           Heavy Rainfall May Have Sparked Kilauea's Expl...\n",
            "Name: 17, dtype: object>, 4]]\n",
            "19\n"
          ],
          "name": "stdout"
        }
      ]
    },
    {
      "cell_type": "code",
      "metadata": {
        "id": "e2RSdJoCWHKH",
        "colab_type": "code",
        "colab": {}
      },
      "source": [
        "# This is showing distribution for the 20 found topics for 10 articles."
      ],
      "execution_count": 0,
      "outputs": []
    },
    {
      "cell_type": "code",
      "metadata": {
        "id": "3obZ9GuxbbH5",
        "colab_type": "code",
        "outputId": "1778ebb4-eaf2-40f3-83c0-87359046e1ed",
        "colab": {
          "base_uri": "https://localhost:8080/",
          "height": 71
        }
      },
      "source": [
        "train_data = [x[:-2] for x in train_vecs]\n",
        "print(train_data)\n",
        "len(train_data) "
      ],
      "execution_count": 0,
      "outputs": [
        {
          "output_type": "stream",
          "text": [
            "[[0.0019999999, 0.0019999999, 0.0019999999, 0.0019999999, 0.952, 0.0019999999, 0.0019999999, 0.0019999999, 0.0019999999, 0.0019999999, 0.0019999999, 0.0019999999, 0.0019999999, 0.0019999999, 0.0019999999, 0.0019999999, 0.0019999999, 0.0019999999, 0.0019999999], [0.001904762, 0.001904762, 0.95428574, 0.001904762, 0.001904762, 0.001904762, 0.001904762, 0.001904762, 0.001904762, 0.001904762, 0.001904762, 0.001904762, 0.001904762, 0.001904762, 0.001904762, 0.001904762, 0.001904762, 0.001904762, 0.001904762], [0.0017391306, 0.0017391306, 0.0017391306, 0.0017391306, 0.0017391306, 0.0017391306, 0.0017391306, 0.0017391306, 0.0017391306, 0.0017391306, 0.0017391306, 0.0017391306, 0.0017391306, 0.0017391306, 0.0017391306, 0.0017391306, 0.0017391306, 0.9582609, 0.0017391306], [0.0017391306, 0.0017391306, 0.0017391306, 0.0017391306, 0.0017391306, 0.0017391306, 0.0017391306, 0.0017391306, 0.0017391306, 0.0017391306, 0.0017391306, 0.0017391306, 0.0017391306, 0.0017391306, 0.0017391306, 0.0017391306, 0.0017391306, 0.0017391306, 0.0017391306], [0.0030769228, 0.0030769228, 0.92615384, 0.0030769228, 0.0030769228, 0.0030769228, 0.0030769228, 0.0030769228, 0.0030769228, 0.0030769228, 0.0030769228, 0.0030769228, 0.0030769228, 0.0030769228, 0.0030769228, 0.0030769228, 0.0030769228, 0.0030769228, 0.0030769228], [0.0024999997, 0.0024999997, 0.0024999997, 0.0024999997, 0.0024999997, 0.0024999997, 0.0024999997, 0.0024999997, 0.0024999997, 0.0024999997, 0.0024999997, 0.0024999997, 0.0024999997, 0.0024999997, 0.94, 0.0024999997, 0.0024999997, 0.0024999997, 0.0024999997], [0.0019999999, 0.0019999999, 0.952, 0.0019999999, 0.0019999999, 0.0019999999, 0.0019999999, 0.0019999999, 0.0019999999, 0.0019999999, 0.0019999999, 0.0019999999, 0.0019999999, 0.0019999999, 0.0019999999, 0.0019999999, 0.0019999999, 0.0019999999, 0.0019999999], [0.002222222, 0.002222222, 0.002222222, 0.9466667, 0.002222222, 0.002222222, 0.002222222, 0.002222222, 0.002222222, 0.002222222, 0.002222222, 0.002222222, 0.002222222, 0.002222222, 0.002222222, 0.002222222, 0.002222222, 0.002222222, 0.002222222], [0.96307695, 0.0015384615, 0.0015384615, 0.0015384615, 0.0015384615, 0.0015384615, 0.0015384615, 0.0015384615, 0.0015384615, 0.0015384615, 0.0015384615, 0.0015384615, 0.0015384615, 0.0015384615, 0.0015384615, 0.0015384615, 0.0015384615, 0.0015384615, 0.0015384615], [0.0019047617, 0.0019047617, 0.0019047617, 0.0019047617, 0.0019047617, 0.0019047617, 0.0019047617, 0.0019047617, 0.0019047617, 0.0019047617, 0.0019047617, 0.0019047617, 0.0019047617, 0.0019047617, 0.0019047617, 0.0019047617, 0.0019047617, 0.0019047617, 0.0019047617], [0.8628571, 0.005714286, 0.005714286, 0.005714286, 0.005714286, 0.005714286, 0.005714286, 0.005714286, 0.005714286, 0.005714286, 0.005714286, 0.005714286, 0.005714286, 0.005714286, 0.005714286, 0.005714286, 0.005714286, 0.005714286, 0.005714286], [0.0018181816, 0.0018181816, 0.0018181816, 0.0018181816, 0.0018181816, 0.0018181816, 0.0018181816, 0.0018181816, 0.0018181816, 0.0018181816, 0.0018181816, 0.0018181816, 0.0018181816, 0.9563637, 0.0018181816, 0.0018181816, 0.0018181816, 0.0018181816, 0.0018181816], [0.0017391306, 0.0017391306, 0.0017391306, 0.0017391306, 0.0017391306, 0.0017391306, 0.0017391306, 0.0017391306, 0.0017391306, 0.0017391306, 0.0017391306, 0.0017391306, 0.0017391306, 0.0017391306, 0.0017391306, 0.0017391306, 0.9582609, 0.0017391306, 0.0017391306], [0.0016666665, 0.0016666665, 0.0016666665, 0.0016666665, 0.0016666665, 0.0016666665, 0.0016666665, 0.0016666665, 0.0016666665, 0.0016666665, 0.96000004, 0.0016666665, 0.0016666665, 0.0016666665, 0.0016666665, 0.0016666665, 0.0016666665, 0.0016666665, 0.0016666665], [0.002352941, 0.002352941, 0.002352941, 0.002352941, 0.002352941, 0.002352941, 0.002352941, 0.002352941, 0.002352941, 0.002352941, 0.002352941, 0.002352941, 0.002352941, 0.002352941, 0.002352941, 0.002352941, 0.002352941, 0.9435295, 0.002352941], [0.003636364, 0.003636364, 0.003636364, 0.003636364, 0.003636364, 0.003636364, 0.003636364, 0.91272724, 0.003636364, 0.003636364, 0.003636364, 0.003636364, 0.003636364, 0.003636364, 0.003636364, 0.003636364, 0.003636364, 0.003636364, 0.003636364], [0.001818182, 0.001818182, 0.001818182, 0.001818182, 0.001818182, 0.001818182, 0.001818182, 0.001818182, 0.001818182, 0.001818182, 0.001818182, 0.001818182, 0.001818182, 0.001818182, 0.001818182, 0.9563637, 0.001818182, 0.001818182, 0.001818182], [0.0028571426, 0.0028571426, 0.0028571426, 0.0028571426, 0.0028571426, 0.0028571426, 0.0028571426, 0.0028571426, 0.0028571426, 0.0028571426, 0.0028571426, 0.93142855, 0.0028571426, 0.0028571426, 0.0028571426, 0.0028571426, 0.0028571426, 0.0028571426, 0.0028571426], [0.0030769228, 0.0030769228, 0.0030769228, 0.0030769228, 0.0030769228, 0.0030769228, 0.0030769228, 0.0030769228, 0.0030769228, 0.92615384, 0.0030769228, 0.0030769228, 0.0030769228, 0.0030769228, 0.0030769228, 0.0030769228, 0.0030769228, 0.0030769228, 0.0030769228]]\n"
          ],
          "name": "stdout"
        },
        {
          "output_type": "execute_result",
          "data": {
            "text/plain": [
              "19"
            ]
          },
          "metadata": {
            "tags": []
          },
          "execution_count": 240
        }
      ]
    },
    {
      "cell_type": "code",
      "metadata": {
        "id": "0bJe4-KhcSvE",
        "colab_type": "code",
        "outputId": "cacc6f4e-6a3f-4327-841d-28af9defa74e",
        "colab": {
          "base_uri": "https://localhost:8080/",
          "height": 80
        }
      },
      "source": [
        "y =final_data.iloc[-1]\n",
        "test_data=y.to_frame()\n",
        "new_test=test_data.drop(['author','publish_date','title'], axis=0)\n",
        "new_test"
      ],
      "execution_count": 0,
      "outputs": [
        {
          "output_type": "execute_result",
          "data": {
            "text/html": [
              "<div>\n",
              "<style scoped>\n",
              "    .dataframe tbody tr th:only-of-type {\n",
              "        vertical-align: middle;\n",
              "    }\n",
              "\n",
              "    .dataframe tbody tr th {\n",
              "        vertical-align: top;\n",
              "    }\n",
              "\n",
              "    .dataframe thead th {\n",
              "        text-align: right;\n",
              "    }\n",
              "</style>\n",
              "<table border=\"1\" class=\"dataframe\">\n",
              "  <thead>\n",
              "    <tr style=\"text-align: right;\">\n",
              "      <th></th>\n",
              "      <th>11</th>\n",
              "    </tr>\n",
              "  </thead>\n",
              "  <tbody>\n",
              "    <tr>\n",
              "      <th>body</th>\n",
              "      <td>Reps. Jerry Nadler and David Cicilline are loo...</td>\n",
              "    </tr>\n",
              "  </tbody>\n",
              "</table>\n",
              "</div>"
            ],
            "text/plain": [
              "                                                     11\n",
              "body  Reps. Jerry Nadler and David Cicilline are loo..."
            ]
          },
          "metadata": {
            "tags": []
          },
          "execution_count": 241
        }
      ]
    },
    {
      "cell_type": "code",
      "metadata": {
        "id": "e_VmweUgdWD1",
        "colab_type": "code",
        "outputId": "c6c201a5-6541-406a-8223-0a1df272f78a",
        "colab": {
          "base_uri": "https://localhost:8080/",
          "height": 391
        }
      },
      "source": [
        "train_vecs2 = []\n",
        "for i in range(len(new_test)):\n",
        "    top_topics = lda_train.get_document_topics(corpus[i], minimum_probability=0.0)\n",
        "    topic_vec = [top_topics[i][1] for i in range(19)]\n",
        "    topic_vec.extend([new_test.iloc[i].value_counts]) # counts of  for restaurant\n",
        "    topic_vec.extend([len(new_test.iloc[i])]) # length review\n",
        "    train_vecs2.append(topic_vec)\n",
        "train_vecs2"
      ],
      "execution_count": 0,
      "outputs": [
        {
          "output_type": "execute_result",
          "data": {
            "text/plain": [
              "[[0.002,\n",
              "  0.002,\n",
              "  0.002,\n",
              "  0.002,\n",
              "  0.952,\n",
              "  0.002,\n",
              "  0.002,\n",
              "  0.002,\n",
              "  0.002,\n",
              "  0.002,\n",
              "  0.002,\n",
              "  0.002,\n",
              "  0.002,\n",
              "  0.002,\n",
              "  0.002,\n",
              "  0.002,\n",
              "  0.002,\n",
              "  0.002,\n",
              "  0.002,\n",
              "  <bound method IndexOpsMixin.value_counts of 11    Reps. Jerry Nadler and David Cicilline are loo...\n",
              "  Name: body, dtype: object>,\n",
              "  1]]"
            ]
          },
          "metadata": {
            "tags": []
          },
          "execution_count": 247
        }
      ]
    },
    {
      "cell_type": "code",
      "metadata": {
        "id": "Eedr1kShefqg",
        "colab_type": "code",
        "outputId": "58985f11-314f-48c4-c013-ac83fb401b32",
        "colab": {
          "base_uri": "https://localhost:8080/",
          "height": 54
        }
      },
      "source": [
        "for x in train_vecs2:\n",
        "    test_data = x[:-2] \n",
        "print(test_data)\n",
        "  # This is now we have target variable to test our model "
      ],
      "execution_count": 0,
      "outputs": [
        {
          "output_type": "stream",
          "text": [
            "[0.002, 0.002, 0.002, 0.002, 0.952, 0.002, 0.002, 0.002, 0.002, 0.002, 0.002, 0.002, 0.002, 0.002, 0.002, 0.002, 0.002, 0.002, 0.002]\n"
          ],
          "name": "stdout"
        }
      ]
    },
    {
      "cell_type": "code",
      "metadata": {
        "id": "PzWvF7grZJzN",
        "colab_type": "code",
        "colab": {}
      },
      "source": [
        "# Training a model"
      ],
      "execution_count": 0,
      "outputs": []
    },
    {
      "cell_type": "code",
      "metadata": {
        "id": "gsnwHQX8ZFND",
        "colab_type": "code",
        "colab": {}
      },
      "source": [
        "X = np.array(train_data)\n",
        "y = np.array(test_data)"
      ],
      "execution_count": 0,
      "outputs": []
    },
    {
      "cell_type": "code",
      "metadata": {
        "id": "2lLqW0bQbS8j",
        "colab_type": "code",
        "outputId": "7f3d9cda-e71a-47be-daf4-42efff1c01a3",
        "colab": {
          "base_uri": "https://localhost:8080/",
          "height": 51
        }
      },
      "source": [
        "print(X.shape)\n",
        "print(y.shape)"
      ],
      "execution_count": 0,
      "outputs": [
        {
          "output_type": "stream",
          "text": [
            "(19, 19)\n",
            "(19,)\n"
          ],
          "name": "stdout"
        }
      ]
    },
    {
      "cell_type": "code",
      "metadata": {
        "id": "TqX0IrrMZmKt",
        "colab_type": "code",
        "colab": {}
      },
      "source": [
        "from sklearn.model_selection import KFold\n",
        "\n",
        "kf = KFold(2, shuffle=True, random_state=42)\n",
        "model1_f1, model2_f1, model3_f1,  = [], [], []\n",
        "\n",
        "for train_index, val_index in kf.split(X, y):\n",
        "    # Assign CV IDX\n",
        "    X_train, y_train = X[train_index], y[train_index]\n",
        "    X_val, y_val = X[val_index], y[val_index]\n",
        "    "
      ],
      "execution_count": 0,
      "outputs": []
    },
    {
      "cell_type": "code",
      "metadata": {
        "id": "S-lqIVvsZu3y",
        "colab_type": "code",
        "outputId": "d89fc2d4-9ecd-43b2-c0b3-298f06b9e436",
        "colab": {
          "base_uri": "https://localhost:8080/",
          "height": 51
        }
      },
      "source": [
        "# Scale Data\n",
        "from sklearn.preprocessing import StandardScaler\n",
        "scaler = StandardScaler()\n",
        "X_train_scale = scaler.fit_transform(X_train)\n",
        "X_val_scale = scaler.transform(X_val)\n",
        "print(X_train_scale.shape)\n",
        "print(X_val_scale.shape)"
      ],
      "execution_count": 0,
      "outputs": [
        {
          "output_type": "stream",
          "text": [
            "(10, 19)\n",
            "(9, 19)\n"
          ],
          "name": "stdout"
        }
      ]
    },
    {
      "cell_type": "code",
      "metadata": {
        "id": "cEOIgzel3O_W",
        "colab_type": "code",
        "outputId": "1c049122-e627-4f88-97c2-76493c22f29f",
        "colab": {
          "base_uri": "https://localhost:8080/",
          "height": 935
        }
      },
      "source": [
        "import numpy as np\n",
        "from sklearn import linear_model\n",
        "from sklearn import svm\n",
        "from sklearn.metrics import mean_squared_error\n",
        "from sklearn.metrics import f1_score\n",
        "\n",
        "classifiers = [\n",
        "    svm.SVR(),\n",
        "    linear_model.SGDRegressor(),\n",
        "    linear_model.BayesianRidge(),\n",
        "    linear_model.LassoLars(),\n",
        "    linear_model.ARDRegression(),\n",
        "    linear_model.PassiveAggressiveRegressor(),\n",
        "    linear_model.TheilSenRegressor(),\n",
        "    linear_model.LinearRegression()]\n",
        "\n",
        "\n",
        "for item in classifiers:\n",
        "    print(\"Machine learning model:\",item)\n",
        "    clf = item\n",
        "    clf.fit(X_train_scale, y_train)\n",
        "    print(\"Pedictins:\",clf.predict(X_val_scale),'\\n')\n",
        "    print(\"Error in model:\",mean_squared_error(y_val, clf.predict(X_val)))"
      ],
      "execution_count": 0,
      "outputs": [
        {
          "output_type": "stream",
          "text": [
            "Machine learning model: SVR(C=1.0, cache_size=200, coef0=0.0, degree=3, epsilon=0.1, gamma='scale',\n",
            "    kernel='rbf', max_iter=-1, shrinking=True, tol=0.001, verbose=False)\n",
            "Pedictins: [0.002 0.002 0.002 0.002 0.002 0.002 0.002 0.002 0.002] \n",
            "\n",
            "Error in model: 0.10027778238834198\n",
            "Machine learning model: SGDRegressor(alpha=0.0001, average=False, early_stopping=False, epsilon=0.1,\n",
            "             eta0=0.01, fit_intercept=True, l1_ratio=0.15,\n",
            "             learning_rate='invscaling', loss='squared_loss', max_iter=1000,\n",
            "             n_iter_no_change=5, penalty='l2', power_t=0.25, random_state=None,\n",
            "             shuffle=True, tol=0.001, validation_fraction=0.1, verbose=0,\n",
            "             warm_start=False)\n",
            "Pedictins: [0.00802006 0.00056621 0.00048079 0.00796292 0.00048842 0.00078264\n",
            " 0.00802006 0.00794746 0.00786184] \n",
            "\n",
            "Error in model: 0.10059506472221379\n",
            "Machine learning model: BayesianRidge(alpha_1=1e-06, alpha_2=1e-06, alpha_init=None,\n",
            "              compute_score=False, copy_X=True, fit_intercept=True,\n",
            "              lambda_1=1e-06, lambda_2=1e-06, lambda_init=None, n_iter=300,\n",
            "              normalize=False, tol=0.001, verbose=False)\n",
            "Pedictins: [0.002 0.002 0.002 0.002 0.002 0.002 0.002 0.002 0.002] \n",
            "\n",
            "Error in model: 0.10027778238834198\n",
            "Machine learning model: LassoLars(alpha=1.0, copy_X=True, eps=2.220446049250313e-16, fit_intercept=True,\n",
            "          fit_path=True, max_iter=500, normalize=True, positive=False,\n",
            "          precompute='auto', verbose=False)\n",
            "Pedictins: [0.002 0.002 0.002 0.002 0.002 0.002 0.002 0.002 0.002] \n",
            "\n",
            "Error in model: 0.10027778238834198\n",
            "Machine learning model: ARDRegression(alpha_1=1e-06, alpha_2=1e-06, compute_score=False, copy_X=True,\n",
            "              fit_intercept=True, lambda_1=1e-06, lambda_2=1e-06, n_iter=300,\n",
            "              normalize=False, threshold_lambda=10000.0, tol=0.001,\n",
            "              verbose=False)\n",
            "Pedictins: [0.002 0.002 0.002 0.002 0.002 0.002 0.002 0.002 0.002] \n",
            "\n",
            "Error in model: 0.10027778238834198\n",
            "Machine learning model: PassiveAggressiveRegressor(C=1.0, average=False, early_stopping=False,\n",
            "                           epsilon=0.1, fit_intercept=True,\n",
            "                           loss='epsilon_insensitive', max_iter=1000,\n",
            "                           n_iter_no_change=5, random_state=None, shuffle=True,\n",
            "                           tol=0.001, validation_fraction=0.1, verbose=0,\n",
            "                           warm_start=False)\n",
            "Pedictins: [0. 0. 0. 0. 0. 0. 0. 0. 0.] \n",
            "\n",
            "Error in model: 0.10070400464070511\n",
            "Machine learning model: TheilSenRegressor(copy_X=True, fit_intercept=True, max_iter=300,\n",
            "                  max_subpopulation=10000, n_jobs=None, n_subsamples=None,\n",
            "                  random_state=None, tol=0.001, verbose=False)\n",
            "Pedictins: [0.002 0.002 0.002 0.002 0.002 0.002 0.002 0.002 0.002] \n",
            "\n",
            "Error in model: 0.10027778238839481\n",
            "Machine learning model: LinearRegression(copy_X=True, fit_intercept=True, n_jobs=None, normalize=False)\n",
            "Pedictins: [0.002 0.002 0.002 0.002 0.002 0.002 0.002 0.002 0.002] \n",
            "\n",
            "Error in model: 0.10027779\n"
          ],
          "name": "stdout"
        }
      ]
    },
    {
      "cell_type": "code",
      "metadata": {
        "id": "j2UagttnWHwK",
        "colab_type": "code",
        "colab": {}
      },
      "source": [
        "# According to multiple models, we can choose model with less errors adn best results."
      ],
      "execution_count": 0,
      "outputs": []
    },
    {
      "cell_type": "code",
      "metadata": {
        "id": "cUx4tLwHWH7V",
        "colab_type": "code",
        "colab": {}
      },
      "source": [
        "# Other than this feature vectors for different words might tell us likelihiid of articles for its virality level."
      ],
      "execution_count": 0,
      "outputs": []
    },
    {
      "cell_type": "code",
      "metadata": {
        "id": "4e2RBGyBWIEd",
        "colab_type": "code",
        "colab": {}
      },
      "source": [
        ""
      ],
      "execution_count": 0,
      "outputs": []
    },
    {
      "cell_type": "code",
      "metadata": {
        "id": "fjrbw39qWIRA",
        "colab_type": "code",
        "colab": {}
      },
      "source": [
        ""
      ],
      "execution_count": 0,
      "outputs": []
    },
    {
      "cell_type": "code",
      "metadata": {
        "id": "3MAh-yKbWHpT",
        "colab_type": "code",
        "colab": {}
      },
      "source": [
        ""
      ],
      "execution_count": 0,
      "outputs": []
    },
    {
      "cell_type": "code",
      "metadata": {
        "id": "4o1tfJSYWHkh",
        "colab_type": "code",
        "colab": {}
      },
      "source": [
        ""
      ],
      "execution_count": 0,
      "outputs": []
    },
    {
      "cell_type": "code",
      "metadata": {
        "id": "_xM4cPTHWHFH",
        "colab_type": "code",
        "colab": {}
      },
      "source": [
        ""
      ],
      "execution_count": 0,
      "outputs": []
    },
    {
      "cell_type": "code",
      "metadata": {
        "id": "SOobGeaLWG-5",
        "colab_type": "code",
        "colab": {}
      },
      "source": [
        ""
      ],
      "execution_count": 0,
      "outputs": []
    },
    {
      "cell_type": "code",
      "metadata": {
        "id": "Tj068zMBLQJP",
        "colab_type": "code",
        "colab": {}
      },
      "source": [
        ""
      ],
      "execution_count": 0,
      "outputs": []
    },
    {
      "cell_type": "code",
      "metadata": {
        "id": "N-s1ahWuLQGd",
        "colab_type": "code",
        "colab": {}
      },
      "source": [
        ""
      ],
      "execution_count": 0,
      "outputs": []
    },
    {
      "cell_type": "code",
      "metadata": {
        "id": "WKliY0jgLP-E",
        "colab_type": "code",
        "colab": {}
      },
      "source": [
        ""
      ],
      "execution_count": 0,
      "outputs": []
    },
    {
      "cell_type": "code",
      "metadata": {
        "id": "sCdcSfdKLP6Y",
        "colab_type": "code",
        "colab": {}
      },
      "source": [
        ""
      ],
      "execution_count": 0,
      "outputs": []
    },
    {
      "cell_type": "code",
      "metadata": {
        "id": "ZmuJVYyZLPuM",
        "colab_type": "code",
        "colab": {}
      },
      "source": [
        ""
      ],
      "execution_count": 0,
      "outputs": []
    },
    {
      "cell_type": "code",
      "metadata": {
        "id": "FaKPxsbZLPdM",
        "colab_type": "code",
        "colab": {}
      },
      "source": [
        ""
      ],
      "execution_count": 0,
      "outputs": []
    },
    {
      "cell_type": "code",
      "metadata": {
        "id": "pl3oXGAXLPTc",
        "colab_type": "code",
        "colab": {}
      },
      "source": [
        ""
      ],
      "execution_count": 0,
      "outputs": []
    },
    {
      "cell_type": "code",
      "metadata": {
        "id": "L2QqzEmKLPOb",
        "colab_type": "code",
        "colab": {}
      },
      "source": [
        ""
      ],
      "execution_count": 0,
      "outputs": []
    },
    {
      "cell_type": "code",
      "metadata": {
        "id": "I4zOU4tBLPAa",
        "colab_type": "code",
        "colab": {}
      },
      "source": [
        ""
      ],
      "execution_count": 0,
      "outputs": []
    },
    {
      "cell_type": "code",
      "metadata": {
        "id": "h59bOLrJIHqh",
        "colab_type": "code",
        "colab": {}
      },
      "source": [
        ""
      ],
      "execution_count": 0,
      "outputs": []
    },
    {
      "cell_type": "code",
      "metadata": {
        "id": "Y-cZqhR6IHme",
        "colab_type": "code",
        "colab": {}
      },
      "source": [
        ""
      ],
      "execution_count": 0,
      "outputs": []
    },
    {
      "cell_type": "code",
      "metadata": {
        "id": "kM9WS2weT1n7",
        "colab_type": "code",
        "colab": {}
      },
      "source": [
        ""
      ],
      "execution_count": 0,
      "outputs": []
    },
    {
      "cell_type": "code",
      "metadata": {
        "id": "9DxZzV7ET1iw",
        "colab_type": "code",
        "colab": {}
      },
      "source": [
        ""
      ],
      "execution_count": 0,
      "outputs": []
    },
    {
      "cell_type": "code",
      "metadata": {
        "id": "Na2CzPCKT1eo",
        "colab_type": "code",
        "colab": {}
      },
      "source": [
        ""
      ],
      "execution_count": 0,
      "outputs": []
    },
    {
      "cell_type": "code",
      "metadata": {
        "id": "BiVfVC22T0i3",
        "colab_type": "code",
        "colab": {}
      },
      "source": [
        ""
      ],
      "execution_count": 0,
      "outputs": []
    },
    {
      "cell_type": "code",
      "metadata": {
        "id": "ihqoM4A7T0Zx",
        "colab_type": "code",
        "colab": {}
      },
      "source": [
        ""
      ],
      "execution_count": 0,
      "outputs": []
    }
  ]
}